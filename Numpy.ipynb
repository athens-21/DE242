{
  "nbformat": 4,
  "nbformat_minor": 0,
  "metadata": {
    "colab": {
      "provenance": [],
      "authorship_tag": "ABX9TyPFVo+C4UDsVL8BYsreQVkb",
      "include_colab_link": true
    },
    "kernelspec": {
      "name": "python3",
      "display_name": "Python 3"
    },
    "language_info": {
      "name": "python"
    }
  },
  "cells": [
    {
      "cell_type": "markdown",
      "metadata": {
        "id": "view-in-github",
        "colab_type": "text"
      },
      "source": [
        "<a href=\"https://colab.research.google.com/github/athens-21/DE242/blob/main/Numpy.ipynb\" target=\"_parent\"><img src=\"https://colab.research.google.com/assets/colab-badge.svg\" alt=\"Open In Colab\"/></a>"
      ]
    },
    {
      "cell_type": "markdown",
      "source": [
        "# **NUMPY**"
      ],
      "metadata": {
        "id": "0tTOKYYCso5f"
      }
    },
    {
      "cell_type": "code",
      "execution_count": 3,
      "metadata": {
        "id": "76xe89Qlra_r"
      },
      "outputs": [],
      "source": [
        "import numpy as np"
      ]
    },
    {
      "cell_type": "code",
      "source": [
        "lst = [(1,2,3,4), (6,7,8,9)]\n",
        "arr = np.array(lst)\n",
        "print(arr)"
      ],
      "metadata": {
        "colab": {
          "base_uri": "https://localhost:8080/"
        },
        "id": "nqEZi2Smrm88",
        "outputId": "57facc7a-5f8b-4bb4-9061-fa32cada3376"
      },
      "execution_count": 4,
      "outputs": [
        {
          "output_type": "stream",
          "name": "stdout",
          "text": [
            "[[1 2 3 4]\n",
            " [6 7 8 9]]\n"
          ]
        }
      ]
    },
    {
      "cell_type": "markdown",
      "source": [
        "**zero(shape)** function —Create a NumPy array with values\n",
        "initialized to zeros"
      ],
      "metadata": {
        "id": "J2THG71GsSR3"
      }
    },
    {
      "cell_type": "code",
      "source": [
        "arr = np.zeros((2,3))\n",
        "print(arr)"
      ],
      "metadata": {
        "colab": {
          "base_uri": "https://localhost:8080/"
        },
        "id": "8MrjCzVjsWJg",
        "outputId": "dad22ff0-8333-48fe-a9e6-7983de911fe7"
      },
      "execution_count": 5,
      "outputs": [
        {
          "output_type": "stream",
          "name": "stdout",
          "text": [
            "[[0. 0. 0.]\n",
            " [0. 0. 0.]]\n"
          ]
        }
      ]
    },
    {
      "cell_type": "markdown",
      "source": [
        "**ones(shape)** function —Create a NumPy array with values\n",
        "initialized to ones"
      ],
      "metadata": {
        "id": "ZDgDPSiMsiZG"
      }
    },
    {
      "cell_type": "code",
      "source": [
        "arr = np.ones((2,3))\n",
        "print(arr)"
      ],
      "metadata": {
        "colab": {
          "base_uri": "https://localhost:8080/"
        },
        "id": "8xO-fpNvsln5",
        "outputId": "e5a9b121-34a1-471f-d807-e89ee05ecf93"
      },
      "execution_count": 6,
      "outputs": [
        {
          "output_type": "stream",
          "name": "stdout",
          "text": [
            "[[1. 1. 1.]\n",
            " [1. 1. 1.]]\n"
          ]
        }
      ]
    },
    {
      "cell_type": "markdown",
      "source": [
        "**eye(shape)** function —Create an identity NumPy array with values\n",
        "initialized to ones along the diagonal."
      ],
      "metadata": {
        "id": "_ZgosbEos_3U"
      }
    },
    {
      "cell_type": "code",
      "source": [
        "arr = np.eye(4)\n",
        "print(arr)"
      ],
      "metadata": {
        "colab": {
          "base_uri": "https://localhost:8080/"
        },
        "id": "aI_bOOhfsx7q",
        "outputId": "43c71423-24cd-4446-ce5c-e70f579273be"
      },
      "execution_count": 7,
      "outputs": [
        {
          "output_type": "stream",
          "name": "stdout",
          "text": [
            "[[1. 0. 0. 0.]\n",
            " [0. 1. 0. 0.]\n",
            " [0. 0. 1. 0.]\n",
            " [0. 0. 0. 1.]]\n"
          ]
        }
      ]
    },
    {
      "cell_type": "markdown",
      "source": [
        "### **Converting an Ndarray to 1D Array**"
      ],
      "metadata": {
        "id": "agNpsIpWuR1-"
      }
    },
    {
      "cell_type": "markdown",
      "source": [
        "**ravel()** returns a view of the **original** array —changing values in\n",
        "the output array WILL change those in the original array"
      ],
      "metadata": {
        "id": "6BMpiCiCuZIX"
      }
    },
    {
      "cell_type": "code",
      "source": [
        "arr = np.array([[1,2,3,4], [5,6,7,8]])\n",
        "print(arr)"
      ],
      "metadata": {
        "colab": {
          "base_uri": "https://localhost:8080/"
        },
        "id": "n31z2Dzgudyx",
        "outputId": "c1484c1f-6263-448e-a2cd-3e58aa09b6c1"
      },
      "execution_count": 8,
      "outputs": [
        {
          "output_type": "stream",
          "name": "stdout",
          "text": [
            "[[1 2 3 4]\n",
            " [5 6 7 8]]\n"
          ]
        }
      ]
    },
    {
      "cell_type": "code",
      "source": [
        "arr.ravel()"
      ],
      "metadata": {
        "colab": {
          "base_uri": "https://localhost:8080/"
        },
        "id": "r7oth1sSvfjZ",
        "outputId": "4e21390c-59c0-46b4-e10d-7561028ea33e"
      },
      "execution_count": 9,
      "outputs": [
        {
          "output_type": "execute_result",
          "data": {
            "text/plain": [
              "array([1, 2, 3, 4, 5, 6, 7, 8])"
            ]
          },
          "metadata": {},
          "execution_count": 9
        }
      ]
    },
    {
      "cell_type": "markdown",
      "source": [
        "**flatten()**  —returns a **copy** of the original array —changing values in\n",
        "the output array will NOT affect those in the original array."
      ],
      "metadata": {
        "id": "62VJgDrbwLbf"
      }
    },
    {
      "cell_type": "code",
      "source": [
        "arr = np.array([[1,2,3,4,5], [6,7,8,9,10]])\n",
        "print(arr)"
      ],
      "metadata": {
        "colab": {
          "base_uri": "https://localhost:8080/"
        },
        "id": "VEiLoIc-wXFE",
        "outputId": "3eff1c98-a53e-4f3e-9efa-16239b5f20fd"
      },
      "execution_count": 10,
      "outputs": [
        {
          "output_type": "stream",
          "name": "stdout",
          "text": [
            "[[ 1  2  3  4  5]\n",
            " [ 6  7  8  9 10]]\n"
          ]
        }
      ]
    },
    {
      "cell_type": "code",
      "source": [
        "arr.flatten()"
      ],
      "metadata": {
        "colab": {
          "base_uri": "https://localhost:8080/"
        },
        "id": "ZW4IgTohwzPK",
        "outputId": "7e9765a1-5b5d-4ed6-89a5-01c7a6d0a936"
      },
      "execution_count": 11,
      "outputs": [
        {
          "output_type": "execute_result",
          "data": {
            "text/plain": [
              "array([ 1,  2,  3,  4,  5,  6,  7,  8,  9, 10])"
            ]
          },
          "metadata": {},
          "execution_count": 11
        }
      ]
    },
    {
      "cell_type": "markdown",
      "source": [
        "**Creating a two-dimensional array**"
      ],
      "metadata": {
        "id": "qR5HtEMAuWz5"
      }
    },
    {
      "cell_type": "code",
      "source": [
        "arr = np.array([[1,2,3,4], [5,6,7,8]])\n",
        "print(arr)"
      ],
      "metadata": {
        "colab": {
          "base_uri": "https://localhost:8080/"
        },
        "id": "ToPhrzMWDzMR",
        "outputId": "a2baea52-68c7-4449-db3b-38487fed03c0"
      },
      "execution_count": 12,
      "outputs": [
        {
          "output_type": "stream",
          "name": "stdout",
          "text": [
            "[[1 2 3 4]\n",
            " [5 6 7 8]]\n"
          ]
        }
      ]
    },
    {
      "cell_type": "code",
      "source": [
        "print(arr.ndim)"
      ],
      "metadata": {
        "colab": {
          "base_uri": "https://localhost:8080/"
        },
        "id": "HAJfBTOIEG8g",
        "outputId": "860d316a-e6ec-4f43-bc41-49dc308cd653"
      },
      "execution_count": 13,
      "outputs": [
        {
          "output_type": "stream",
          "name": "stdout",
          "text": [
            "2\n"
          ]
        }
      ]
    },
    {
      "cell_type": "code",
      "source": [
        "#using ravel()\n",
        "rav1 = arr.ravel()\n",
        "print(rav1)"
      ],
      "metadata": {
        "colab": {
          "base_uri": "https://localhost:8080/"
        },
        "id": "x02RcEn9ENmh",
        "outputId": "1f5bbac1-6bcf-4dce-a160-ee6d357ac858"
      },
      "execution_count": 14,
      "outputs": [
        {
          "output_type": "stream",
          "name": "stdout",
          "text": [
            "[1 2 3 4 5 6 7 8]\n"
          ]
        }
      ]
    },
    {
      "cell_type": "code",
      "source": [
        "rav1[0] = 100\n",
        "print(rav1)"
      ],
      "metadata": {
        "colab": {
          "base_uri": "https://localhost:8080/"
        },
        "id": "fxAlnX1XEm96",
        "outputId": "3bf551f6-4dc1-4d84-b0fc-8154bd7565ca"
      },
      "execution_count": 15,
      "outputs": [
        {
          "output_type": "stream",
          "name": "stdout",
          "text": [
            "[100   2   3   4   5   6   7   8]\n"
          ]
        }
      ]
    },
    {
      "cell_type": "code",
      "source": [
        "#using flatten()\n",
        "fl1 = arr.flatten()\n",
        "print(fl1)"
      ],
      "metadata": {
        "colab": {
          "base_uri": "https://localhost:8080/"
        },
        "id": "k709MCxPEvyJ",
        "outputId": "82583139-0a26-446e-f60a-b932a81c2d64"
      },
      "execution_count": 16,
      "outputs": [
        {
          "output_type": "stream",
          "name": "stdout",
          "text": [
            "[100   2   3   4   5   6   7   8]\n"
          ]
        }
      ]
    },
    {
      "cell_type": "code",
      "source": [
        "fl1 = arr.flatten()\n",
        "fl1[0] = 1\n",
        "print(fl1)"
      ],
      "metadata": {
        "colab": {
          "base_uri": "https://localhost:8080/"
        },
        "id": "sL52iNqEFIey",
        "outputId": "3a1560bc-2a0b-43ab-a14a-40d3d3322d81"
      },
      "execution_count": 17,
      "outputs": [
        {
          "output_type": "stream",
          "name": "stdout",
          "text": [
            "[1 2 3 4 5 6 7 8]\n"
          ]
        }
      ]
    },
    {
      "cell_type": "markdown",
      "source": [
        "**Two Ndarrays Vertically**"
      ],
      "metadata": {
        "id": "6LicblKjw7uZ"
      }
    },
    {
      "cell_type": "code",
      "source": [
        "arr1 = np.array([[1,2,3,4], [5,6,7,8]])\n",
        "arr2 = np.array([[9,10,11,12], [13,14,15,16]])"
      ],
      "metadata": {
        "id": "qLVzkEc8ysi_"
      },
      "execution_count": 18,
      "outputs": []
    },
    {
      "cell_type": "code",
      "source": [
        "#np.concatennate\n",
        "arr3 = np.concatenate((arr1, arr2), axis = 0)\n",
        "print(arr3)"
      ],
      "metadata": {
        "colab": {
          "base_uri": "https://localhost:8080/"
        },
        "id": "r71jWcIQF07L",
        "outputId": "7c937c7d-9b1a-4003-affb-3df6e929a071"
      },
      "execution_count": 19,
      "outputs": [
        {
          "output_type": "stream",
          "name": "stdout",
          "text": [
            "[[ 1  2  3  4]\n",
            " [ 5  6  7  8]\n",
            " [ 9 10 11 12]\n",
            " [13 14 15 16]]\n"
          ]
        }
      ]
    },
    {
      "cell_type": "code",
      "source": [
        "#np.vstack\n",
        "arr4 = np.vstack((arr1, arr2))\n",
        "print(arr4)"
      ],
      "metadata": {
        "colab": {
          "base_uri": "https://localhost:8080/"
        },
        "id": "qC3uB7g6F6gI",
        "outputId": "37a4f0e8-ac35-46c7-8600-f3f05e6e0667"
      },
      "execution_count": 20,
      "outputs": [
        {
          "output_type": "stream",
          "name": "stdout",
          "text": [
            "[[ 1  2  3  4]\n",
            " [ 5  6  7  8]\n",
            " [ 9 10 11 12]\n",
            " [13 14 15 16]]\n"
          ]
        }
      ]
    },
    {
      "cell_type": "markdown",
      "source": [
        "**Two Ndarrays Horizontally**"
      ],
      "metadata": {
        "id": "tRZRaGNRGOcr"
      }
    },
    {
      "cell_type": "code",
      "source": [
        "arr1 = np.array([[1,2,3,4], [5,6,7,8]])\n",
        "arr2 = np.array([[9,10,11,12], [13,14,15,16]])"
      ],
      "metadata": {
        "id": "N99SCr2fG2iX"
      },
      "execution_count": 21,
      "outputs": []
    },
    {
      "cell_type": "code",
      "source": [
        "#Horizontal concatenation  ➡️, ⬇️\n",
        "np.concatenate((arr1, arr2), axis = 1)"
      ],
      "metadata": {
        "colab": {
          "base_uri": "https://localhost:8080/"
        },
        "id": "3avuRWyVGVgO",
        "outputId": "d02eb4b8-8e45-49ec-d2e6-8d5271d7ce1a"
      },
      "execution_count": 22,
      "outputs": [
        {
          "output_type": "execute_result",
          "data": {
            "text/plain": [
              "array([[ 1,  2,  3,  4,  9, 10, 11, 12],\n",
              "       [ 5,  6,  7,  8, 13, 14, 15, 16]])"
            ]
          },
          "metadata": {},
          "execution_count": 22
        }
      ]
    },
    {
      "cell_type": "code",
      "source": [
        "#hstack\n",
        "np.hstack((arr1, arr2))"
      ],
      "metadata": {
        "colab": {
          "base_uri": "https://localhost:8080/"
        },
        "id": "PTCa9FdiHA2w",
        "outputId": "417a1f64-85ac-496d-9987-b37dad7c97e8"
      },
      "execution_count": 23,
      "outputs": [
        {
          "output_type": "execute_result",
          "data": {
            "text/plain": [
              "array([[ 1,  2,  3,  4,  9, 10, 11, 12],\n",
              "       [ 5,  6,  7,  8, 13, 14, 15, 16]])"
            ]
          },
          "metadata": {},
          "execution_count": 23
        }
      ]
    },
    {
      "cell_type": "markdown",
      "source": [
        "**Reshaping a numpy array**"
      ],
      "metadata": {
        "id": "0S9G3wHuH4u2"
      }
    },
    {
      "cell_type": "code",
      "source": [
        "#An array example 3\n",
        "arr = np.arange(1, 9, 1)\n",
        "print(arr)"
      ],
      "metadata": {
        "colab": {
          "base_uri": "https://localhost:8080/"
        },
        "id": "d6ff2fGNH-ov",
        "outputId": "ef77db3c-960a-43d0-8e3d-377dca546e0d"
      },
      "execution_count": 24,
      "outputs": [
        {
          "output_type": "stream",
          "name": "stdout",
          "text": [
            "[1 2 3 4 5 6 7 8]\n"
          ]
        }
      ]
    },
    {
      "cell_type": "code",
      "source": [
        "print(arr.ndim)"
      ],
      "metadata": {
        "colab": {
          "base_uri": "https://localhost:8080/"
        },
        "id": "b3m-r0_0IK0o",
        "outputId": "8baa3c49-3aca-4296-fe53-5fc69790c7cb"
      },
      "execution_count": 25,
      "outputs": [
        {
          "output_type": "stream",
          "name": "stdout",
          "text": [
            "1\n"
          ]
        }
      ]
    },
    {
      "cell_type": "code",
      "source": [
        "print(arr.shape)"
      ],
      "metadata": {
        "colab": {
          "base_uri": "https://localhost:8080/"
        },
        "id": "tY2uk42AIOV3",
        "outputId": "0770a1d3-0695-47e8-9ee5-073271277f45"
      },
      "execution_count": 26,
      "outputs": [
        {
          "output_type": "stream",
          "name": "stdout",
          "text": [
            "(8,)\n"
          ]
        }
      ]
    },
    {
      "cell_type": "code",
      "source": [
        "#Reshape the array to (2,4)\n",
        "arr = arr.reshape(2,4)\n",
        "print(arr)"
      ],
      "metadata": {
        "colab": {
          "base_uri": "https://localhost:8080/"
        },
        "id": "luXF8oF1IcxI",
        "outputId": "96d5baee-3753-4ea5-b718-043925d4dfe4"
      },
      "execution_count": 27,
      "outputs": [
        {
          "output_type": "stream",
          "name": "stdout",
          "text": [
            "[[1 2 3 4]\n",
            " [5 6 7 8]]\n"
          ]
        }
      ]
    },
    {
      "cell_type": "code",
      "source": [
        "print(arr.ndim)"
      ],
      "metadata": {
        "colab": {
          "base_uri": "https://localhost:8080/"
        },
        "id": "bkHtRtPPImzT",
        "outputId": "f9035bd7-5be6-4020-cea2-e9c068568905"
      },
      "execution_count": 28,
      "outputs": [
        {
          "output_type": "stream",
          "name": "stdout",
          "text": [
            "2\n"
          ]
        }
      ]
    },
    {
      "cell_type": "code",
      "source": [
        "print(arr.shape)"
      ],
      "metadata": {
        "colab": {
          "base_uri": "https://localhost:8080/"
        },
        "id": "6P__-imdIqU1",
        "outputId": "13204c15-3971-469a-c471-4876c461e79b"
      },
      "execution_count": 29,
      "outputs": [
        {
          "output_type": "stream",
          "name": "stdout",
          "text": [
            "(2, 4)\n"
          ]
        }
      ]
    },
    {
      "cell_type": "code",
      "source": [
        "arr[0,0] = 99\n",
        "print(arr)"
      ],
      "metadata": {
        "colab": {
          "base_uri": "https://localhost:8080/"
        },
        "id": "WoePfLcHI-Oh",
        "outputId": "164e1f80-8fa9-4785-b2fa-11f346b40cf3"
      },
      "execution_count": 30,
      "outputs": [
        {
          "output_type": "stream",
          "name": "stdout",
          "text": [
            "[[99  2  3  4]\n",
            " [ 5  6  7  8]]\n"
          ]
        }
      ]
    },
    {
      "cell_type": "code",
      "source": [
        "tmp = arr.reshape(4,-1)\n",
        "print(tmp)"
      ],
      "metadata": {
        "colab": {
          "base_uri": "https://localhost:8080/"
        },
        "id": "yL9P39hwJC-w",
        "outputId": "a6bc235f-9b13-4b32-9a0b-193e82bde34d"
      },
      "execution_count": 31,
      "outputs": [
        {
          "output_type": "stream",
          "name": "stdout",
          "text": [
            "[[99  2]\n",
            " [ 3  4]\n",
            " [ 5  6]\n",
            " [ 7  8]]\n"
          ]
        }
      ]
    },
    {
      "cell_type": "code",
      "source": [
        "print(tmp.shape)"
      ],
      "metadata": {
        "colab": {
          "base_uri": "https://localhost:8080/"
        },
        "id": "Z5KSi4bQJgS_",
        "outputId": "c6b51ecc-6194-4a5f-9775-39397cf8abc3"
      },
      "execution_count": 32,
      "outputs": [
        {
          "output_type": "stream",
          "name": "stdout",
          "text": [
            "(4, 2)\n"
          ]
        }
      ]
    },
    {
      "cell_type": "code",
      "source": [
        "#using slice indexing arr[start:stop:step]\n",
        "print(tmp[1,0:2])"
      ],
      "metadata": {
        "colab": {
          "base_uri": "https://localhost:8080/"
        },
        "id": "5t-w4rMhJqsG",
        "outputId": "fc04f82a-9f31-4522-a2d6-791f94b528c6"
      },
      "execution_count": 34,
      "outputs": [
        {
          "output_type": "stream",
          "name": "stdout",
          "text": [
            "[3 4]\n"
          ]
        }
      ]
    },
    {
      "cell_type": "code",
      "source": [
        "print(tmp[1,0:2:2])"
      ],
      "metadata": {
        "colab": {
          "base_uri": "https://localhost:8080/"
        },
        "id": "HIT6mFvQABDe",
        "outputId": "17e6931e-371d-4892-9d52-bc340d1cdf34"
      },
      "execution_count": 35,
      "outputs": [
        {
          "output_type": "stream",
          "name": "stdout",
          "text": [
            "[3]\n"
          ]
        }
      ]
    },
    {
      "cell_type": "markdown",
      "source": [
        "**Find Data in Numpy Array**"
      ],
      "metadata": {
        "id": "sjkCM1FCAHzw"
      }
    },
    {
      "cell_type": "code",
      "source": [
        "arr = np.array([[1,2,3,4], [5,6,7,8]])\n",
        "np.where(arr<3)\n"
      ],
      "metadata": {
        "colab": {
          "base_uri": "https://localhost:8080/"
        },
        "id": "mHrMWreFAPpk",
        "outputId": "4d76aca0-ca70-4712-86e1-ae6ea88c3505"
      },
      "execution_count": 36,
      "outputs": [
        {
          "output_type": "execute_result",
          "data": {
            "text/plain": [
              "(array([0, 0]), array([0, 1]))"
            ]
          },
          "metadata": {},
          "execution_count": 36
        }
      ]
    },
    {
      "cell_type": "code",
      "source": [
        "arr[np.where(arr>3)]"
      ],
      "metadata": {
        "colab": {
          "base_uri": "https://localhost:8080/"
        },
        "id": "ZlUcAcs5Adb2",
        "outputId": "3d0ba968-c0f1-4da6-8a60-1c0152b099e2"
      },
      "execution_count": 37,
      "outputs": [
        {
          "output_type": "execute_result",
          "data": {
            "text/plain": [
              "array([4, 5, 6, 7, 8])"
            ]
          },
          "metadata": {},
          "execution_count": 37
        }
      ]
    },
    {
      "cell_type": "code",
      "source": [
        "#Gives an explicit bool array\n",
        "result = np.where([True, False, False], [1,2,3], [7,8,9])\n",
        "print(result)"
      ],
      "metadata": {
        "colab": {
          "base_uri": "https://localhost:8080/"
        },
        "id": "ZLn-WiJ2Avwx",
        "outputId": "bfa15d19-250f-4a92-b07f-d6909a3493ef"
      },
      "execution_count": 39,
      "outputs": [
        {
          "output_type": "stream",
          "name": "stdout",
          "text": [
            "[1 8 9]\n"
          ]
        }
      ]
    }
  ]
}