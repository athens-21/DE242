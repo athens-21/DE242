{
  "nbformat": 4,
  "nbformat_minor": 0,
  "metadata": {
    "colab": {
      "provenance": [],
      "include_colab_link": true
    },
    "kernelspec": {
      "name": "python3",
      "display_name": "Python 3"
    },
    "language_info": {
      "name": "python"
    }
  },
  "cells": [
    {
      "cell_type": "markdown",
      "metadata": {
        "id": "view-in-github",
        "colab_type": "text"
      },
      "source": [
        "<a href=\"https://colab.research.google.com/github/athens-21/DE242/blob/main/De242_2_2024_Multiple_linear_regression.ipynb\" target=\"_parent\"><img src=\"https://colab.research.google.com/assets/colab-badge.svg\" alt=\"Open In Colab\"/></a>"
      ]
    },
    {
      "cell_type": "markdown",
      "source": [
        "\n",
        "**Name:**Rattanin kliangmol\n",
        "\n",
        "\n",
        "**Date:**25/2/2025\n",
        "\n",
        "\n"
      ],
      "metadata": {
        "id": "3tz-RYiXaGbG"
      }
    },
    {
      "cell_type": "code",
      "source": [
        "from google.colab import drive\n",
        "drive.mount('/content/drive')\n"
      ],
      "metadata": {
        "colab": {
          "base_uri": "https://localhost:8080/"
        },
        "id": "Fzq-olM4N40c",
        "outputId": "12c8ba48-2611-4647-ef57-e5e2caebcb9f"
      },
      "execution_count": null,
      "outputs": [
        {
          "output_type": "stream",
          "name": "stdout",
          "text": [
            "Drive already mounted at /content/drive; to attempt to forcibly remount, call drive.mount(\"/content/drive\", force_remount=True).\n"
          ]
        }
      ]
    },
    {
      "cell_type": "code",
      "source": [
        ">>> import os\n",
        ">>> import numpy as np\n",
        ">>> import pandas as pd\n",
        ">>> import statsmodels.formula.api as smf\n",
        ">>> import matplotlib.pyplot as plt\n",
        ">>> %matplotlib inline\n"
      ],
      "metadata": {
        "id": "3g4JcWr9BVUQ"
      },
      "execution_count": null,
      "outputs": []
    },
    {
      "cell_type": "code",
      "source": [
        "os.chdir('/content/drive/My Drive/Colab Notebooks')\n",
        "os.getcwd()\n"
      ],
      "metadata": {
        "colab": {
          "base_uri": "https://localhost:8080/",
          "height": 35
        },
        "id": "qE-_J8HAOgzx",
        "outputId": "450aa4f2-0325-4fee-895d-15e95ea5a94c"
      },
      "execution_count": null,
      "outputs": [
        {
          "output_type": "execute_result",
          "data": {
            "text/plain": [
              "'/content/drive/My Drive/Colab Notebooks'"
            ],
            "application/vnd.google.colaboratory.intrinsic+json": {
              "type": "string"
            }
          },
          "metadata": {},
          "execution_count": 90
        }
      ]
    },
    {
      "cell_type": "code",
      "source": [
        ">>> df= pd.read_excel('/content/drive/My Drive/Colab Notebooks/dataset/Home Market Value.xlsx', sheet_name='Data', skiprows=2)\n"
      ],
      "metadata": {
        "colab": {
          "base_uri": "https://localhost:8080/"
        },
        "id": "57bN8FCrOvhm",
        "outputId": "548c7c34-bce1-49e7-8fc1-57e1a8e4b968"
      },
      "execution_count": null,
      "outputs": [
        {
          "output_type": "stream",
          "name": "stderr",
          "text": [
            "/usr/local/lib/python3.11/dist-packages/openpyxl/worksheet/_reader.py:329: UserWarning: Unknown extension is not supported and will be removed\n",
            "  warn(msg)\n"
          ]
        }
      ]
    },
    {
      "cell_type": "code",
      "source": [
        ">>> df.columns\n",
        ">>> X = df['Square Feet']\n",
        ">>> y = df['Market Value']"
      ],
      "metadata": {
        "id": "DNyPgoSNPQ74"
      },
      "execution_count": null,
      "outputs": []
    },
    {
      "cell_type": "code",
      "source": [
        ">>> plt.scatter(X, y, facecolor='pink', edgecolor='red', marker='o')\n",
        ">>> plt.xlabel('Square Feet')\n",
        ">>> plt.ylabel('Market Value')\n",
        ">>> plt.tight_layout()\n",
        ">>> plt.savefig('myscatter-plot.jpg')"
      ],
      "metadata": {
        "colab": {
          "base_uri": "https://localhost:8080/",
          "height": 487
        },
        "id": "01BTFs0WPWlU",
        "outputId": "9fcdd434-5c1a-41b2-a9d7-bb9bacc2d4ed"
      },
      "execution_count": null,
      "outputs": [
        {
          "output_type": "display_data",
          "data": {
            "text/plain": [
              "<Figure size 640x480 with 1 Axes>"
            ],
            "image/png": "[encoded data removed]"
          },
          "metadata": {}
        }
      ]
    },
    {
      "cell_type": "code",
      "source": [
        "df.columns = ['HouseAge', 'SquareFeet', 'MarketValue']"
      ],
      "metadata": {
        "id": "ZKSmWioEPafs"
      },
      "execution_count": null,
      "outputs": []
    },
    {
      "cell_type": "code",
      "source": [
        ">>> model = smf.ols(formula='MarketValue~SquareFeet', data=df).fit()\n",
        ">>> model.params\n"
      ],
      "metadata": {
        "colab": {
          "base_uri": "https://localhost:8080/",
          "height": 147
        },
        "id": "SVSZnCSJPx8K",
        "outputId": "50f58ed8-9ac0-408a-bf1a-a8865b22acf4"
      },
      "execution_count": null,
      "outputs": [
        {
          "output_type": "execute_result",
          "data": {
            "text/plain": [
              "Intercept     32673.219897\n",
              "SquareFeet       35.036373\n",
              "dtype: float64"
            ],
            "text/html": [
              "<div>\n",
              "<style scoped>\n",
              "    .dataframe tbody tr th:only-of-type {\n",
              "        vertical-align: middle;\n",
              "    }\n",
              "\n",
              "    .dataframe tbody tr th {\n",
              "        vertical-align: top;\n",
              "    }\n",
              "\n",
              "    .dataframe thead th {\n",
              "        text-align: right;\n",
              "    }\n",
              "</style>\n",
              "<table border=\"1\" class=\"dataframe\">\n",
              "  <thead>\n",
              "    <tr style=\"text-align: right;\">\n",
              "      <th></th>\n",
              "      <th>0</th>\n",
              "    </tr>\n",
              "  </thead>\n",
              "  <tbody>\n",
              "    <tr>\n",
              "      <th>Intercept</th>\n",
              "      <td>32673.219897</td>\n",
              "    </tr>\n",
              "    <tr>\n",
              "      <th>SquareFeet</th>\n",
              "      <td>35.036373</td>\n",
              "    </tr>\n",
              "  </tbody>\n",
              "</table>\n",
              "</div><br><label><b>dtype:</b> float64</label>"
            ]
          },
          "metadata": {},
          "execution_count": 95
        }
      ]
    },
    {
      "cell_type": "code",
      "source": [
        ">>> #predict() without a parameter will predict all data point.\n",
        ">>> predicted_Y= model.predict()\n"
      ],
      "metadata": {
        "id": "2PgrYEoYP3tb"
      },
      "execution_count": null,
      "outputs": []
    },
    {
      "cell_type": "code",
      "source": [
        ">>> model.predict(exog=dict(SquareFeet=225))"
      ],
      "metadata": {
        "colab": {
          "base_uri": "https://localhost:8080/",
          "height": 115
        },
        "id": "CQwOhENuP7ce",
        "outputId": "6da66b9e-8315-4686-ab0d-4538c0996206"
      },
      "execution_count": null,
      "outputs": [
        {
          "output_type": "execute_result",
          "data": {
            "text/plain": [
              "0    40556.403729\n",
              "dtype: float64"
            ],
            "text/html": [
              "<div>\n",
              "<style scoped>\n",
              "    .dataframe tbody tr th:only-of-type {\n",
              "        vertical-align: middle;\n",
              "    }\n",
              "\n",
              "    .dataframe tbody tr th {\n",
              "        vertical-align: top;\n",
              "    }\n",
              "\n",
              "    .dataframe thead th {\n",
              "        text-align: right;\n",
              "    }\n",
              "</style>\n",
              "<table border=\"1\" class=\"dataframe\">\n",
              "  <thead>\n",
              "    <tr style=\"text-align: right;\">\n",
              "      <th></th>\n",
              "      <th>0</th>\n",
              "    </tr>\n",
              "  </thead>\n",
              "  <tbody>\n",
              "    <tr>\n",
              "      <th>0</th>\n",
              "      <td>40556.403729</td>\n",
              "    </tr>\n",
              "  </tbody>\n",
              "</table>\n",
              "</div><br><label><b>dtype:</b> float64</label>"
            ]
          },
          "metadata": {},
          "execution_count": 97
        }
      ]
    },
    {
      "cell_type": "code",
      "source": [
        ">>> X.corr(y, method='pearson')\n",
        "\n"
      ],
      "metadata": {
        "colab": {
          "base_uri": "https://localhost:8080/"
        },
        "id": "rtziVDxvP9UA",
        "outputId": "375f25b9-db81-42b9-9867-7231be0fcd98"
      },
      "execution_count": null,
      "outputs": [
        {
          "output_type": "execute_result",
          "data": {
            "text/plain": [
              "0.7312552233485191"
            ]
          },
          "metadata": {},
          "execution_count": 98
        }
      ]
    },
    {
      "cell_type": "code",
      "source": [],
      "metadata": {
        "id": "kYHBb6mhVGLt"
      },
      "execution_count": null,
      "outputs": []
    },
    {
      "cell_type": "code",
      "source": [],
      "metadata": {
        "id": "ZBw8WbP3VGHg"
      },
      "execution_count": null,
      "outputs": []
    },
    {
      "cell_type": "code",
      "source": [
        ">>> plt.scatter(X, y, facecolor='pink', edgecolor='red', marker='o')\n",
        ">>> plt.xlabel('Square Feet')\n",
        ">>> plt.ylabel('Market Value')\n",
        ">>> plt.plot(X, predicted_Y, color='red')\n",
        ">>> plt.tight_layout()\n",
        ">>> plt.savefig('simple_regression_line.jpg')\n",
        ">>> plt.plot(X, predicted_Y, color='red')\n",
        ">>> plt.tight_layout()\n",
        ">>> plt.savefig('simple_regression_line.jpg')"
      ],
      "metadata": {
        "colab": {
          "base_uri": "https://localhost:8080/",
          "height": 487
        },
        "id": "bwcwJhjqQASA",
        "outputId": "7b69113d-1bc4-40a3-ff2c-0176532cb96e"
      },
      "execution_count": null,
      "outputs": [
        {
          "output_type": "display_data",
          "data": {
            "text/plain": [
              "<Figure size 640x480 with 1 Axes>"
            ],
            "image/png": "[encoded data removed]"
          },
          "metadata": {}
        }
      ]
    },
    {
      "cell_type": "code",
      "source": [
        ">>> model.rsquared"
      ],
      "metadata": {
        "colab": {
          "base_uri": "https://localhost:8080/"
        },
        "id": "2ck7mahQQdlK",
        "outputId": "413bba41-ca6f-4701-deb2-5b199afd2a2a"
      },
      "execution_count": null,
      "outputs": [
        {
          "output_type": "execute_result",
          "data": {
            "text/plain": [
              "0.5347342016744923"
            ]
          },
          "metadata": {},
          "execution_count": 100
        }
      ]
    },
    {
      "cell_type": "code",
      "source": [
        ">>> model.summary()"
      ],
      "metadata": {
        "colab": {
          "base_uri": "https://localhost:8080/",
          "height": 486
        },
        "id": "eUL_w_Q7QfkO",
        "outputId": "85840dd3-146d-46be-c284-0a76ddfd475c"
      },
      "execution_count": null,
      "outputs": [
        {
          "output_type": "execute_result",
          "data": {
            "text/plain": [
              "<class 'statsmodels.iolib.summary.Summary'>\n",
              "\"\"\"\n",
              "                            OLS Regression Results                            \n",
              "==============================================================================\n",
              "Dep. Variable:            MarketValue   R-squared:                       0.535\n",
              "Model:                            OLS   Adj. R-squared:                  0.523\n",
              "Method:                 Least Squares   F-statistic:                     45.97\n",
              "Date:                Tue, 25 Feb 2025   Prob (F-statistic):           3.80e-08\n",
              "Time:                        09:09:25   Log-Likelihood:                -432.12\n",
              "No. Observations:                  42   AIC:                             868.2\n",
              "Df Residuals:                      40   BIC:                             871.7\n",
              "Df Model:                           1                                         \n",
              "Covariance Type:            nonrobust                                         \n",
              "==============================================================================\n",
              "                 coef    std err          t      P>|t|      [0.025      0.975]\n",
              "------------------------------------------------------------------------------\n",
              "Intercept   3.267e+04   8831.951      3.699      0.001    1.48e+04    5.05e+04\n",
              "SquareFeet    35.0364      5.167      6.780      0.000      24.593      45.480\n",
              "==============================================================================\n",
              "Omnibus:                       42.087   Durbin-Watson:                   1.259\n",
              "Prob(Omnibus):                  0.000   Jarque-Bera (JB):              161.922\n",
              "Skew:                           2.430   Prob(JB):                     6.91e-36\n",
              "Kurtosis:                      11.301   Cond. No.                     1.34e+04\n",
              "==============================================================================\n",
              "\n",
              "Notes:\n",
              "[1] Standard Errors assume that the covariance matrix of the errors is correctly specified.\n",
              "[2] The condition number is large, 1.34e+04. This might indicate that there are\n",
              "strong multicollinearity or other numerical problems.\n",
              "\"\"\""
            ],
            "text/html": [
              "<table class=\"simpletable\">\n",
              "<caption>OLS Regression Results</caption>\n",
              "<tr>\n",
              "  <th>Dep. Variable:</th>       <td>MarketValue</td>   <th>  R-squared:         </th> <td>   0.535</td>\n",
              "</tr>\n",
              "<tr>\n",
              "  <th>Model:</th>                   <td>OLS</td>       <th>  Adj. R-squared:    </th> <td>   0.523</td>\n",
              "</tr>\n",
              "<tr>\n",
              "  <th>Method:</th>             <td>Least Squares</td>  <th>  F-statistic:       </th> <td>   45.97</td>\n",
              "</tr>\n",
              "<tr>\n",
              "  <th>Date:</th>             <td>Tue, 25 Feb 2025</td> <th>  Prob (F-statistic):</th> <td>3.80e-08</td>\n",
              "</tr>\n",
              "<tr>\n",
              "  <th>Time:</th>                 <td>09:09:25</td>     <th>  Log-Likelihood:    </th> <td> -432.12</td>\n",
              "</tr>\n",
              "<tr>\n",
              "  <th>No. Observations:</th>      <td>    42</td>      <th>  AIC:               </th> <td>   868.2</td>\n",
              "</tr>\n",
              "<tr>\n",
              "  <th>Df Residuals:</th>          <td>    40</td>      <th>  BIC:               </th> <td>   871.7</td>\n",
              "</tr>\n",
              "<tr>\n",
              "  <th>Df Model:</th>              <td>     1</td>      <th>                     </th>     <td> </td>   \n",
              "</tr>\n",
              "<tr>\n",
              "  <th>Covariance Type:</th>      <td>nonrobust</td>    <th>                     </th>     <td> </td>   \n",
              "</tr>\n",
              "</table>\n",
              "<table class=\"simpletable\">\n",
              "<tr>\n",
              "       <td></td>         <th>coef</th>     <th>std err</th>      <th>t</th>      <th>P>|t|</th>  <th>[0.025</th>    <th>0.975]</th>  \n",
              "</tr>\n",
              "<tr>\n",
              "  <th>Intercept</th>  <td> 3.267e+04</td> <td> 8831.951</td> <td>    3.699</td> <td> 0.001</td> <td> 1.48e+04</td> <td> 5.05e+04</td>\n",
              "</tr>\n",
              "<tr>\n",
              "  <th>SquareFeet</th> <td>   35.0364</td> <td>    5.167</td> <td>    6.780</td> <td> 0.000</td> <td>   24.593</td> <td>   45.480</td>\n",
              "</tr>\n",
              "</table>\n",
              "<table class=\"simpletable\">\n",
              "<tr>\n",
              "  <th>Omnibus:</th>       <td>42.087</td> <th>  Durbin-Watson:     </th> <td>   1.259</td>\n",
              "</tr>\n",
              "<tr>\n",
              "  <th>Prob(Omnibus):</th> <td> 0.000</td> <th>  Jarque-Bera (JB):  </th> <td> 161.922</td>\n",
              "</tr>\n",
              "<tr>\n",
              "  <th>Skew:</th>          <td> 2.430</td> <th>  Prob(JB):          </th> <td>6.91e-36</td>\n",
              "</tr>\n",
              "<tr>\n",
              "  <th>Kurtosis:</th>      <td>11.301</td> <th>  Cond. No.          </th> <td>1.34e+04</td>\n",
              "</tr>\n",
              "</table><br/><br/>Notes:<br/>[1] Standard Errors assume that the covariance matrix of the errors is correctly specified.<br/>[2] The condition number is large, 1.34e+04. This might indicate that there are<br/>strong multicollinearity or other numerical problems."
            ],
            "text/latex": "\\begin{center}\n\\begin{tabular}{lclc}\n\\toprule\n\\textbf{Dep. Variable:}    &   MarketValue    & \\textbf{  R-squared:         } &     0.535   \\\\\n\\textbf{Model:}            &       OLS        & \\textbf{  Adj. R-squared:    } &     0.523   \\\\\n\\textbf{Method:}           &  Least Squares   & \\textbf{  F-statistic:       } &     45.97   \\\\\n\\textbf{Date:}             & Tue, 25 Feb 2025 & \\textbf{  Prob (F-statistic):} &  3.80e-08   \\\\\n\\textbf{Time:}             &     09:09:25     & \\textbf{  Log-Likelihood:    } &   -432.12   \\\\\n\\textbf{No. Observations:} &          42      & \\textbf{  AIC:               } &     868.2   \\\\\n\\textbf{Df Residuals:}     &          40      & \\textbf{  BIC:               } &     871.7   \\\\\n\\textbf{Df Model:}         &           1      & \\textbf{                     } &             \\\\\n\\textbf{Covariance Type:}  &    nonrobust     & \\textbf{                     } &             \\\\\n\\bottomrule\n\\end{tabular}\n\\begin{tabular}{lcccccc}\n                    & \\textbf{coef} & \\textbf{std err} & \\textbf{t} & \\textbf{P$> |$t$|$} & \\textbf{[0.025} & \\textbf{0.975]}  \\\\\n\\midrule\n\\textbf{Intercept}  &    3.267e+04  &     8831.951     &     3.699  &         0.001        &     1.48e+04    &     5.05e+04     \\\\\n\\textbf{SquareFeet} &      35.0364  &        5.167     &     6.780  &         0.000        &       24.593    &       45.480     \\\\\n\\bottomrule\n\\end{tabular}\n\\begin{tabular}{lclc}\n\\textbf{Omnibus:}       & 42.087 & \\textbf{  Durbin-Watson:     } &    1.259  \\\\\n\\textbf{Prob(Omnibus):} &  0.000 & \\textbf{  Jarque-Bera (JB):  } &  161.922  \\\\\n\\textbf{Skew:}          &  2.430 & \\textbf{  Prob(JB):          } & 6.91e-36  \\\\\n\\textbf{Kurtosis:}      & 11.301 & \\textbf{  Cond. No.          } & 1.34e+04  \\\\\n\\bottomrule\n\\end{tabular}\n%\\caption{OLS Regression Results}\n\\end{center}\n\nNotes: \\newline\n [1] Standard Errors assume that the covariance matrix of the errors is correctly specified. \\newline\n [2] The condition number is large, 1.34e+04. This might indicate that there are \\newline\n strong multicollinearity or other numerical problems."
          },
          "metadata": {},
          "execution_count": 101
        }
      ]
    },
    {
      "cell_type": "code",
      "source": [
        "df= pd.read_excel('/content/drive/My Drive/Colab Notebooks/dataset/Colleges and Universities.xlsx', sheet_name='Data',\n",
        "skiprows=2)"
      ],
      "metadata": {
        "colab": {
          "base_uri": "https://localhost:8080/"
        },
        "id": "8M3oxhpZQu7X",
        "outputId": "a21725d4-c1cc-49c4-beef-2706fc51b0b1"
      },
      "execution_count": null,
      "outputs": [
        {
          "output_type": "stream",
          "name": "stderr",
          "text": [
            "/usr/local/lib/python3.11/dist-packages/openpyxl/worksheet/_reader.py:329: UserWarning: Unknown extension is not supported and will be removed\n",
            "  warn(msg)\n"
          ]
        }
      ]
    },
    {
      "cell_type": "code",
      "source": [
        ">>> df.columns\n",
        ">>> X = df[['Median SAT', 'Acceptance Rate', 'Expenditures/Student',\n",
        "'Top 10% HS']]\n",
        ">>> y = df['Graduation %']"
      ],
      "metadata": {
        "id": "0Cqsy7ydQ0IV"
      },
      "execution_count": null,
      "outputs": []
    },
    {
      "cell_type": "code",
      "source": [
        "# Import the linear_model module from sklearn\n",
        "from sklearn import linear_model\n",
        "\n",
        "# Create a linear regression model\n",
        "lm = linear_model.LinearRegression()\n",
        "\n",
        "\n"
      ],
      "metadata": {
        "id": "TYfo0I07WatX"
      },
      "execution_count": null,
      "outputs": []
    },
    {
      "cell_type": "code",
      "source": [
        ">>> lm = linear_model.LinearRegression()\n",
        ">>> model = lm.fit(X, y)"
      ],
      "metadata": {
        "id": "rq-MleqDQ2Mk"
      },
      "execution_count": null,
      "outputs": []
    },
    {
      "cell_type": "code",
      "source": [
        ">>> model.coef_\n",
        ">>> model.intercept_\n"
      ],
      "metadata": {
        "colab": {
          "base_uri": "https://localhost:8080/"
        },
        "id": "Ledw85zhRCFD",
        "outputId": "35435b5f-8424-44d8-b7e5-c4f161213a5f"
      },
      "execution_count": null,
      "outputs": [
        {
          "output_type": "execute_result",
          "data": {
            "text/plain": [
              "17.92095587064935"
            ]
          },
          "metadata": {},
          "execution_count": 106
        }
      ]
    },
    {
      "cell_type": "code",
      "source": [
        ">>> predicted_Y = model.predict(X)"
      ],
      "metadata": {
        "id": "2zXJ2qhyRDLq"
      },
      "execution_count": null,
      "outputs": []
    },
    {
      "cell_type": "code",
      "source": [
        ">>> model.score(X, y)"
      ],
      "metadata": {
        "colab": {
          "base_uri": "https://localhost:8080/"
        },
        "id": "zREo4SVfRTAe",
        "outputId": "382dc013-d79c-4e71-8d01-d931a283849b"
      },
      "execution_count": null,
      "outputs": [
        {
          "output_type": "execute_result",
          "data": {
            "text/plain": [
              "0.534426040648133"
            ]
          },
          "metadata": {},
          "execution_count": 108
        }
      ]
    },
    {
      "cell_type": "code",
      "source": [
        ">>> df.corr(method='pearson', numeric_only=True)"
      ],
      "metadata": {
        "colab": {
          "base_uri": "https://localhost:8080/",
          "height": 206
        },
        "id": "tB2jke-4RVFu",
        "outputId": "09cf9ca8-1a6e-4e3f-d486-3883bf079e5a"
      },
      "execution_count": null,
      "outputs": [
        {
          "output_type": "execute_result",
          "data": {
            "text/plain": [
              "                      Median SAT  Acceptance Rate  Expenditures/Student  \\\n",
              "Median SAT              1.000000        -0.601902              0.572742   \n",
              "Acceptance Rate        -0.601902         1.000000             -0.284254   \n",
              "Expenditures/Student    0.572742        -0.284254              1.000000   \n",
              "Top 10% HS              0.503468        -0.609721              0.505782   \n",
              "Graduation %            0.564147        -0.550378              0.042504   \n",
              "\n",
              "                      Top 10% HS  Graduation %  \n",
              "Median SAT              0.503468      0.564147  \n",
              "Acceptance Rate        -0.609721     -0.550378  \n",
              "Expenditures/Student    0.505782      0.042504  \n",
              "Top 10% HS              1.000000      0.138613  \n",
              "Graduation %            0.138613      1.000000  "
            ],
            "text/html": [
              "\n",
              "  <div id=\"df-2c502491-0344-4759-a5ee-66331c000b14\" class=\"colab-df-container\">\n",
              "    <div>\n",
              "<style scoped>\n",
              "    .dataframe tbody tr th:only-of-type {\n",
              "        vertical-align: middle;\n",
              "    }\n",
              "\n",
              "    .dataframe tbody tr th {\n",
              "        vertical-align: top;\n",
              "    }\n",
              "\n",
              "    .dataframe thead th {\n",
              "        text-align: right;\n",
              "    }\n",
              "</style>\n",
              "<table border=\"1\" class=\"dataframe\">\n",
              "  <thead>\n",
              "    <tr style=\"text-align: right;\">\n",
              "      <th></th>\n",
              "      <th>Median SAT</th>\n",
              "      <th>Acceptance Rate</th>\n",
              "      <th>Expenditures/Student</th>\n",
              "      <th>Top 10% HS</th>\n",
              "      <th>Graduation %</th>\n",
              "    </tr>\n",
              "  </thead>\n",
              "  <tbody>\n",
              "    <tr>\n",
              "      <th>Median SAT</th>\n",
              "      <td>1.000000</td>\n",
              "      <td>-0.601902</td>\n",
              "      <td>0.572742</td>\n",
              "      <td>0.503468</td>\n",
              "      <td>0.564147</td>\n",
              "    </tr>\n",
              "    <tr>\n",
              "      <th>Acceptance Rate</th>\n",
              "      <td>-0.601902</td>\n",
              "      <td>1.000000</td>\n",
              "      <td>-0.284254</td>\n",
              "      <td>-0.609721</td>\n",
              "      <td>-0.550378</td>\n",
              "    </tr>\n",
              "    <tr>\n",
              "      <th>Expenditures/Student</th>\n",
              "      <td>0.572742</td>\n",
              "      <td>-0.284254</td>\n",
              "      <td>1.000000</td>\n",
              "      <td>0.505782</td>\n",
              "      <td>0.042504</td>\n",
              "    </tr>\n",
              "    <tr>\n",
              "      <th>Top 10% HS</th>\n",
              "      <td>0.503468</td>\n",
              "      <td>-0.609721</td>\n",
              "      <td>0.505782</td>\n",
              "      <td>1.000000</td>\n",
              "      <td>0.138613</td>\n",
              "    </tr>\n",
              "    <tr>\n",
              "      <th>Graduation %</th>\n",
              "      <td>0.564147</td>\n",
              "      <td>-0.550378</td>\n",
              "      <td>0.042504</td>\n",
              "      <td>0.138613</td>\n",
              "      <td>1.000000</td>\n",
              "    </tr>\n",
              "  </tbody>\n",
              "</table>\n",
              "</div>\n",
              "    <div class=\"colab-df-buttons\">\n",
              "\n",
              "  <div class=\"colab-df-container\">\n",
              "    <button class=\"colab-df-convert\" onclick=\"convertToInteractive('df-2c502491-0344-4759-a5ee-66331c000b14')\"\n",
              "            title=\"Convert this dataframe to an interactive table.\"\n",
              "            style=\"display:none;\">\n",
              "\n",
              "  <svg xmlns=\"http://www.w3.org/2000/svg\" height=\"24px\" viewBox=\"0 -960 960 960\">\n",
              "    <path d=\"M120-120v-720h720v720H120Zm60-500h600v-160H180v160Zm220 220h160v-160H400v160Zm0 220h160v-160H400v160ZM180-400h160v-160H180v160Zm440 0h160v-160H620v160ZM180-180h160v-160H180v160Zm440 0h160v-160H620v160Z\"/>\n",
              "  </svg>\n",
              "    </button>\n",
              "\n",
              "  <style>\n",
              "    .colab-df-container {\n",
              "      display:flex;\n",
              "      gap: 12px;\n",
              "    }\n",
              "\n",
              "    .colab-df-convert {\n",
              "      background-color: #E8F0FE;\n",
              "      border: none;\n",
              "      border-radius: 50%;\n",
              "      cursor: pointer;\n",
              "      display: none;\n",
              "      fill: #1967D2;\n",
              "      height: 32px;\n",
              "      padding: 0 0 0 0;\n",
              "      width: 32px;\n",
              "    }\n",
              "\n",
              "    .colab-df-convert:hover {\n",
              "      background-color: #E2EBFA;\n",
              "      box-shadow: 0px 1px 2px rgba(60, 64, 67, 0.3), 0px 1px 3px 1px rgba(60, 64, 67, 0.15);\n",
              "      fill: #174EA6;\n",
              "    }\n",
              "\n",
              "    .colab-df-buttons div {\n",
              "      margin-bottom: 4px;\n",
              "    }\n",
              "\n",
              "    [theme=dark] .colab-df-convert {\n",
              "      background-color: #3B4455;\n",
              "      fill: #D2E3FC;\n",
              "    }\n",
              "\n",
              "    [theme=dark] .colab-df-convert:hover {\n",
              "      background-color: #434B5C;\n",
              "      box-shadow: 0px 1px 3px 1px rgba(0, 0, 0, 0.15);\n",
              "      filter: drop-shadow(0px 1px 2px rgba(0, 0, 0, 0.3));\n",
              "      fill: #FFFFFF;\n",
              "    }\n",
              "  </style>\n",
              "\n",
              "    <script>\n",
              "      const buttonEl =\n",
              "        document.querySelector('#df-2c502491-0344-4759-a5ee-66331c000b14 button.colab-df-convert');\n",
              "      buttonEl.style.display =\n",
              "        google.colab.kernel.accessAllowed ? 'block' : 'none';\n",
              "\n",
              "      async function convertToInteractive(key) {\n",
              "        const element = document.querySelector('#df-2c502491-0344-4759-a5ee-66331c000b14');\n",
              "        const dataTable =\n",
              "          await google.colab.kernel.invokeFunction('convertToInteractive',\n",
              "                                                    [key], {});\n",
              "        if (!dataTable) return;\n",
              "\n",
              "        const docLinkHtml = 'Like what you see? Visit the ' +\n",
              "          '<a target=\"_blank\" href=https://colab.research.google.com/notebooks/data_table.ipynb>data table notebook</a>'\n",
              "          + ' to learn more about interactive tables.';\n",
              "        element.innerHTML = '';\n",
              "        dataTable['output_type'] = 'display_data';\n",
              "        await google.colab.output.renderOutput(dataTable, element);\n",
              "        const docLink = document.createElement('div');\n",
              "        docLink.innerHTML = docLinkHtml;\n",
              "        element.appendChild(docLink);\n",
              "      }\n",
              "    </script>\n",
              "  </div>\n",
              "\n",
              "\n",
              "<div id=\"df-0b8f7603-968e-4882-827a-c6aac7260a6a\">\n",
              "  <button class=\"colab-df-quickchart\" onclick=\"quickchart('df-0b8f7603-968e-4882-827a-c6aac7260a6a')\"\n",
              "            title=\"Suggest charts\"\n",
              "            style=\"display:none;\">\n",
              "\n",
              "<svg xmlns=\"http://www.w3.org/2000/svg\" height=\"24px\"viewBox=\"0 0 24 24\"\n",
              "     width=\"24px\">\n",
              "    <g>\n",
              "        <path d=\"M19 3H5c-1.1 0-2 .9-2 2v14c0 1.1.9 2 2 2h14c1.1 0 2-.9 2-2V5c0-1.1-.9-2-2-2zM9 17H7v-7h2v7zm4 0h-2V7h2v10zm4 0h-2v-4h2v4z\"/>\n",
              "    </g>\n",
              "</svg>\n",
              "  </button>\n",
              "\n",
              "<style>\n",
              "  .colab-df-quickchart {\n",
              "      --bg-color: #E8F0FE;\n",
              "      --fill-color: #1967D2;\n",
              "      --hover-bg-color: #E2EBFA;\n",
              "      --hover-fill-color: #174EA6;\n",
              "      --disabled-fill-color: #AAA;\n",
              "      --disabled-bg-color: #DDD;\n",
              "  }\n",
              "\n",
              "  [theme=dark] .colab-df-quickchart {\n",
              "      --bg-color: #3B4455;\n",
              "      --fill-color: #D2E3FC;\n",
              "      --hover-bg-color: #434B5C;\n",
              "      --hover-fill-color: #FFFFFF;\n",
              "      --disabled-bg-color: #3B4455;\n",
              "      --disabled-fill-color: #666;\n",
              "  }\n",
              "\n",
              "  .colab-df-quickchart {\n",
              "    background-color: var(--bg-color);\n",
              "    border: none;\n",
              "    border-radius: 50%;\n",
              "    cursor: pointer;\n",
              "    display: none;\n",
              "    fill: var(--fill-color);\n",
              "    height: 32px;\n",
              "    padding: 0;\n",
              "    width: 32px;\n",
              "  }\n",
              "\n",
              "  .colab-df-quickchart:hover {\n",
              "    background-color: var(--hover-bg-color);\n",
              "    box-shadow: 0 1px 2px rgba(60, 64, 67, 0.3), 0 1px 3px 1px rgba(60, 64, 67, 0.15);\n",
              "    fill: var(--button-hover-fill-color);\n",
              "  }\n",
              "\n",
              "  .colab-df-quickchart-complete:disabled,\n",
              "  .colab-df-quickchart-complete:disabled:hover {\n",
              "    background-color: var(--disabled-bg-color);\n",
              "    fill: var(--disabled-fill-color);\n",
              "    box-shadow: none;\n",
              "  }\n",
              "\n",
              "  .colab-df-spinner {\n",
              "    border: 2px solid var(--fill-color);\n",
              "    border-color: transparent;\n",
              "    border-bottom-color: var(--fill-color);\n",
              "    animation:\n",
              "      spin 1s steps(1) infinite;\n",
              "  }\n",
              "\n",
              "  @keyframes spin {\n",
              "    0% {\n",
              "      border-color: transparent;\n",
              "      border-bottom-color: var(--fill-color);\n",
              "      border-left-color: var(--fill-color);\n",
              "    }\n",
              "    20% {\n",
              "      border-color: transparent;\n",
              "      border-left-color: var(--fill-color);\n",
              "      border-top-color: var(--fill-color);\n",
              "    }\n",
              "    30% {\n",
              "      border-color: transparent;\n",
              "      border-left-color: var(--fill-color);\n",
              "      border-top-color: var(--fill-color);\n",
              "      border-right-color: var(--fill-color);\n",
              "    }\n",
              "    40% {\n",
              "      border-color: transparent;\n",
              "      border-right-color: var(--fill-color);\n",
              "      border-top-color: var(--fill-color);\n",
              "    }\n",
              "    60% {\n",
              "      border-color: transparent;\n",
              "      border-right-color: var(--fill-color);\n",
              "    }\n",
              "    80% {\n",
              "      border-color: transparent;\n",
              "      border-right-color: var(--fill-color);\n",
              "      border-bottom-color: var(--fill-color);\n",
              "    }\n",
              "    90% {\n",
              "      border-color: transparent;\n",
              "      border-bottom-color: var(--fill-color);\n",
              "    }\n",
              "  }\n",
              "</style>\n",
              "\n",
              "  <script>\n",
              "    async function quickchart(key) {\n",
              "      const quickchartButtonEl =\n",
              "        document.querySelector('#' + key + ' button');\n",
              "      quickchartButtonEl.disabled = true;  // To prevent multiple clicks.\n",
              "      quickchartButtonEl.classList.add('colab-df-spinner');\n",
              "      try {\n",
              "        const charts = await google.colab.kernel.invokeFunction(\n",
              "            'suggestCharts', [key], {});\n",
              "      } catch (error) {\n",
              "        console.error('Error during call to suggestCharts:', error);\n",
              "      }\n",
              "      quickchartButtonEl.classList.remove('colab-df-spinner');\n",
              "      quickchartButtonEl.classList.add('colab-df-quickchart-complete');\n",
              "    }\n",
              "    (() => {\n",
              "      let quickchartButtonEl =\n",
              "        document.querySelector('#df-0b8f7603-968e-4882-827a-c6aac7260a6a button');\n",
              "      quickchartButtonEl.style.display =\n",
              "        google.colab.kernel.accessAllowed ? 'block' : 'none';\n",
              "    })();\n",
              "  </script>\n",
              "</div>\n",
              "\n",
              "    </div>\n",
              "  </div>\n"
            ],
            "application/vnd.google.colaboratory.intrinsic+json": {
              "type": "dataframe",
              "summary": "{\n  \"name\": \"df\",\n  \"rows\": 5,\n  \"fields\": [\n    {\n      \"column\": \"Median SAT\",\n      \"properties\": {\n        \"dtype\": \"number\",\n        \"std\": 0.5981223317439592,\n        \"min\": -0.6019019585340968,\n        \"max\": 1.0,\n        \"num_unique_values\": 5,\n        \"samples\": [\n          -0.6019019585340968,\n          0.5641468266974191,\n          0.5727417289706311\n        ],\n        \"semantic_type\": \"\",\n        \"description\": \"\"\n      }\n    },\n    {\n      \"column\": \"Acceptance Rate\",\n      \"properties\": {\n        \"dtype\": \"number\",\n        \"std\": 0.688990522912212,\n        \"min\": -0.6097209716942261,\n        \"max\": 1.0,\n        \"num_unique_values\": 5,\n        \"samples\": [\n          1.0,\n          -0.5503775101738073,\n          -0.284254414858906\n        ],\n        \"semantic_type\": \"\",\n        \"description\": \"\"\n      }\n    },\n    {\n      \"column\": \"Expenditures/Student\",\n      \"properties\": {\n        \"dtype\": \"number\",\n        \"std\": 0.49792287801072066,\n        \"min\": -0.284254414858906,\n        \"max\": 1.0,\n        \"num_unique_values\": 5,\n        \"samples\": [\n          -0.284254414858906,\n          0.042503513962047525,\n          1.0\n        ],\n        \"semantic_type\": \"\",\n        \"description\": \"\"\n      }\n    },\n    {\n      \"column\": \"Top 10% HS\",\n      \"properties\": {\n        \"dtype\": \"number\",\n        \"std\": 0.5973049128059756,\n        \"min\": -0.6097209716942261,\n        \"max\": 1.0,\n        \"num_unique_values\": 5,\n        \"samples\": [\n          -0.6097209716942261,\n          0.1386126671801052,\n          0.5057820486961649\n        ],\n        \"semantic_type\": \"\",\n        \"description\": \"\"\n      }\n    },\n    {\n      \"column\": \"Graduation %\",\n      \"properties\": {\n        \"dtype\": \"number\",\n        \"std\": 0.5823759085576513,\n        \"min\": -0.5503775101738073,\n        \"max\": 1.0,\n        \"num_unique_values\": 5,\n        \"samples\": [\n          -0.5503775101738073,\n          1.0,\n          0.042503513962047525\n        ],\n        \"semantic_type\": \"\",\n        \"description\": \"\"\n      }\n    }\n  ]\n}"
            }
          },
          "metadata": {},
          "execution_count": 109
        }
      ]
    },
    {
      "cell_type": "code",
      "source": [
        ">>> residual = predicted_Y - y"
      ],
      "metadata": {
        "id": "zb0NyatGRXB7"
      },
      "execution_count": null,
      "outputs": []
    },
    {
      "cell_type": "code",
      "source": [
        ">>> fig, axes = plt.subplots(2, 2)\n",
        "axes[0, 0].scatter(df['Median SAT'], residual, facecolor='pink', edgecolor='red')\n",
        "axes[0, 0].set_xlabel('Median SAT')\n",
        "axes[0, 0].set_ylabel('Residuals')\n",
        "axes[0, 0].set_xlim(0, 1500)\n",
        "axes[0, 0].set_ylim(-20, 20)\n",
        "axes[0, 0].plot([0, 1500], [0, 0], color='red', linestyle='--', linewidth=1)\n",
        "axes[0, 1].scatter(df['Top 10% HS'], residual, facecolor='skyblue', edgecolor='blue')\n",
        "axes[0, 1].set_xlabel('Top 10% HS')\n",
        "axes[0, 1].set_ylabel('Residuals')\n",
        "axes[0, 1].set_xlim(0, 120)\n",
        "axes[0, 1].set_ylim(-20, 20)\n",
        "axes[0, 1].plot([0, 120], [0, 0], color='blue', linestyle='--', linewidth=1)\n",
        "axes[1, 0].scatter(df['Acceptance Rate']*100, residual, facecolor='lightgreen', edgecolor='green')\n",
        "axes[1, 0].set_xlabel('Acceptance Rate')\n",
        "axes[1, 0].set_ylabel('Residuals')\n",
        "axes[1, 0].set_xlim(0, 80)\n",
        "axes[1, 0].set_ylim(-50, 50)\n",
        "axes[1, 0].plot([0, 80], [0, 0], color='green', linestyle='--', linewidth=1)\n",
        "axes[1, 1].scatter(df['Expenditures/Student'], residual, facecolor='gray', edgecolor='black')\n",
        "axes[1, 1].set_xlabel('Expenditures/Student')\n",
        "axes[1, 1].set_ylabel('Residuals')\n",
        "axes[1, 1].set_xlim(0, 120000)\n",
        "axes[1, 1].set_ylim(-50, 50)\n",
        "axes[1, 1].plot([0, 120000], [0, 0], color='black', linestyle='--', linewidth=1)\n",
        "fig.tight_layout()\n",
        "fig.savefig('residual_plot.jpg')"
      ],
      "metadata": {
        "colab": {
          "base_uri": "https://localhost:8080/",
          "height": 487
        },
        "id": "hUUONkJcRb0u",
        "outputId": "9289dbd6-330f-4bb5-d31d-c9b0783564ff"
      },
      "execution_count": null,
      "outputs": [
        {
          "output_type": "display_data",
          "data": {
            "text/plain": [
              "<Figure size 640x480 with 4 Axes>"
            ],
            "image/png": "[encoded data removed]"
          },
          "metadata": {}
        }
      ]
    },
    {
      "cell_type": "code",
      "source": [
        ">>> df= pd.read_excel('/content/drive/My Drive/Colab Notebooks/dataset/Banking Data.xlsx', sheet_name='Data', skiprows=3)"
      ],
      "metadata": {
        "colab": {
          "base_uri": "https://localhost:8080/"
        },
        "id": "ZZCmDSBYRdml",
        "outputId": "53705b39-8b51-45ad-bf29-6eb51d403c78"
      },
      "execution_count": null,
      "outputs": [
        {
          "output_type": "stream",
          "name": "stderr",
          "text": [
            "/usr/local/lib/python3.11/dist-packages/openpyxl/worksheet/_reader.py:329: UserWarning: Unknown extension is not supported and will be removed\n",
            "  warn(msg)\n"
          ]
        }
      ]
    },
    {
      "cell_type": "code",
      "source": [
        ">>> df.columns"
      ],
      "metadata": {
        "colab": {
          "base_uri": "https://localhost:8080/"
        },
        "id": "ciYUPvokR-20",
        "outputId": "6138a820-8855-4100-c1e2-23332553cbfb"
      },
      "execution_count": null,
      "outputs": [
        {
          "output_type": "execute_result",
          "data": {
            "text/plain": [
              "Index(['Age', 'Education', 'Income', 'Home Value', 'Wealth', 'Balance'], dtype='object')"
            ]
          },
          "metadata": {},
          "execution_count": 113
        }
      ]
    },
    {
      "cell_type": "code",
      "source": [
        ">>> df.columns = ['Age', 'Education', 'Income', 'HomeValue', 'Wealth','Balance']"
      ],
      "metadata": {
        "id": "_sPsn58ESb-X"
      },
      "execution_count": null,
      "outputs": []
    },
    {
      "cell_type": "code",
      "source": [
        ">>> model = smf.ols(formula='Balance~Age+Education+Income+HomeValue+Wealth',\n",
        "data=df).fit()"
      ],
      "metadata": {
        "id": "pioVPM4pSoK2"
      },
      "execution_count": null,
      "outputs": []
    },
    {
      "cell_type": "code",
      "source": [
        ">>> model.params"
      ],
      "metadata": {
        "colab": {
          "base_uri": "https://localhost:8080/",
          "height": 272
        },
        "id": "W12Wber2SrUt",
        "outputId": "8891b111-856c-4a13-f5be-727169a005d5"
      },
      "execution_count": null,
      "outputs": [
        {
          "output_type": "execute_result",
          "data": {
            "text/plain": [
              "Intercept   -10710.642783\n",
              "Age            318.664963\n",
              "Education      621.860347\n",
              "Income           0.146323\n",
              "HomeValue        0.009183\n",
              "Wealth           0.074332\n",
              "dtype: float64"
            ],
            "text/html": [
              "<div>\n",
              "<style scoped>\n",
              "    .dataframe tbody tr th:only-of-type {\n",
              "        vertical-align: middle;\n",
              "    }\n",
              "\n",
              "    .dataframe tbody tr th {\n",
              "        vertical-align: top;\n",
              "    }\n",
              "\n",
              "    .dataframe thead th {\n",
              "        text-align: right;\n",
              "    }\n",
              "</style>\n",
              "<table border=\"1\" class=\"dataframe\">\n",
              "  <thead>\n",
              "    <tr style=\"text-align: right;\">\n",
              "      <th></th>\n",
              "      <th>0</th>\n",
              "    </tr>\n",
              "  </thead>\n",
              "  <tbody>\n",
              "    <tr>\n",
              "      <th>Intercept</th>\n",
              "      <td>-10710.642783</td>\n",
              "    </tr>\n",
              "    <tr>\n",
              "      <th>Age</th>\n",
              "      <td>318.664963</td>\n",
              "    </tr>\n",
              "    <tr>\n",
              "      <th>Education</th>\n",
              "      <td>621.860347</td>\n",
              "    </tr>\n",
              "    <tr>\n",
              "      <th>Income</th>\n",
              "      <td>0.146323</td>\n",
              "    </tr>\n",
              "    <tr>\n",
              "      <th>HomeValue</th>\n",
              "      <td>0.009183</td>\n",
              "    </tr>\n",
              "    <tr>\n",
              "      <th>Wealth</th>\n",
              "      <td>0.074332</td>\n",
              "    </tr>\n",
              "  </tbody>\n",
              "</table>\n",
              "</div><br><label><b>dtype:</b> float64</label>"
            ]
          },
          "metadata": {},
          "execution_count": 116
        }
      ]
    },
    {
      "cell_type": "code",
      "source": [
        ">>> model.summary()"
      ],
      "metadata": {
        "colab": {
          "base_uri": "https://localhost:8080/",
          "height": 572
        },
        "id": "7TcbRrnZSvzc",
        "outputId": "df4de15a-0baf-4cd2-9c7f-2241f2d17c1d"
      },
      "execution_count": null,
      "outputs": [
        {
          "output_type": "execute_result",
          "data": {
            "text/plain": [
              "<class 'statsmodels.iolib.summary.Summary'>\n",
              "\"\"\"\n",
              "                            OLS Regression Results                            \n",
              "==============================================================================\n",
              "Dep. Variable:                Balance   R-squared:                       0.947\n",
              "Model:                            OLS   Adj. R-squared:                  0.944\n",
              "Method:                 Least Squares   F-statistic:                     342.4\n",
              "Date:                Tue, 25 Feb 2025   Prob (F-statistic):           1.52e-59\n",
              "Time:                        09:09:26   Log-Likelihood:                -919.73\n",
              "No. Observations:                 102   AIC:                             1851.\n",
              "Df Residuals:                      96   BIC:                             1867.\n",
              "Df Model:                           5                                         \n",
              "Covariance Type:            nonrobust                                         \n",
              "==============================================================================\n",
              "                 coef    std err          t      P>|t|      [0.025      0.975]\n",
              "------------------------------------------------------------------------------\n",
              "Intercept  -1.071e+04   4260.976     -2.514      0.014   -1.92e+04   -2252.672\n",
              "Age          318.6650     60.986      5.225      0.000     197.608     439.721\n",
              "Education    621.8603    318.960      1.950      0.054     -11.269    1254.990\n",
              "Income         0.1463      0.041      3.588      0.001       0.065       0.227\n",
              "HomeValue      0.0092      0.011      0.832      0.408      -0.013       0.031\n",
              "Wealth         0.0743      0.011      6.643      0.000       0.052       0.097\n",
              "==============================================================================\n",
              "Omnibus:                       16.445   Durbin-Watson:                   1.728\n",
              "Prob(Omnibus):                  0.000   Jarque-Bera (JB):               32.771\n",
              "Skew:                           0.605   Prob(JB):                     7.65e-08\n",
              "Kurtosis:                       5.500   Cond. No.                     3.65e+06\n",
              "==============================================================================\n",
              "\n",
              "Notes:\n",
              "[1] Standard Errors assume that the covariance matrix of the errors is correctly specified.\n",
              "[2] The condition number is large, 3.65e+06. This might indicate that there are\n",
              "strong multicollinearity or other numerical problems.\n",
              "\"\"\""
            ],
            "text/html": [
              "<table class=\"simpletable\">\n",
              "<caption>OLS Regression Results</caption>\n",
              "<tr>\n",
              "  <th>Dep. Variable:</th>         <td>Balance</td>     <th>  R-squared:         </th> <td>   0.947</td>\n",
              "</tr>\n",
              "<tr>\n",
              "  <th>Model:</th>                   <td>OLS</td>       <th>  Adj. R-squared:    </th> <td>   0.944</td>\n",
              "</tr>\n",
              "<tr>\n",
              "  <th>Method:</th>             <td>Least Squares</td>  <th>  F-statistic:       </th> <td>   342.4</td>\n",
              "</tr>\n",
              "<tr>\n",
              "  <th>Date:</th>             <td>Tue, 25 Feb 2025</td> <th>  Prob (F-statistic):</th> <td>1.52e-59</td>\n",
              "</tr>\n",
              "<tr>\n",
              "  <th>Time:</th>                 <td>09:09:26</td>     <th>  Log-Likelihood:    </th> <td> -919.73</td>\n",
              "</tr>\n",
              "<tr>\n",
              "  <th>No. Observations:</th>      <td>   102</td>      <th>  AIC:               </th> <td>   1851.</td>\n",
              "</tr>\n",
              "<tr>\n",
              "  <th>Df Residuals:</th>          <td>    96</td>      <th>  BIC:               </th> <td>   1867.</td>\n",
              "</tr>\n",
              "<tr>\n",
              "  <th>Df Model:</th>              <td>     5</td>      <th>                     </th>     <td> </td>   \n",
              "</tr>\n",
              "<tr>\n",
              "  <th>Covariance Type:</th>      <td>nonrobust</td>    <th>                     </th>     <td> </td>   \n",
              "</tr>\n",
              "</table>\n",
              "<table class=\"simpletable\">\n",
              "<tr>\n",
              "      <td></td>         <th>coef</th>     <th>std err</th>      <th>t</th>      <th>P>|t|</th>  <th>[0.025</th>    <th>0.975]</th>  \n",
              "</tr>\n",
              "<tr>\n",
              "  <th>Intercept</th> <td>-1.071e+04</td> <td> 4260.976</td> <td>   -2.514</td> <td> 0.014</td> <td>-1.92e+04</td> <td>-2252.672</td>\n",
              "</tr>\n",
              "<tr>\n",
              "  <th>Age</th>       <td>  318.6650</td> <td>   60.986</td> <td>    5.225</td> <td> 0.000</td> <td>  197.608</td> <td>  439.721</td>\n",
              "</tr>\n",
              "<tr>\n",
              "  <th>Education</th> <td>  621.8603</td> <td>  318.960</td> <td>    1.950</td> <td> 0.054</td> <td>  -11.269</td> <td> 1254.990</td>\n",
              "</tr>\n",
              "<tr>\n",
              "  <th>Income</th>    <td>    0.1463</td> <td>    0.041</td> <td>    3.588</td> <td> 0.001</td> <td>    0.065</td> <td>    0.227</td>\n",
              "</tr>\n",
              "<tr>\n",
              "  <th>HomeValue</th> <td>    0.0092</td> <td>    0.011</td> <td>    0.832</td> <td> 0.408</td> <td>   -0.013</td> <td>    0.031</td>\n",
              "</tr>\n",
              "<tr>\n",
              "  <th>Wealth</th>    <td>    0.0743</td> <td>    0.011</td> <td>    6.643</td> <td> 0.000</td> <td>    0.052</td> <td>    0.097</td>\n",
              "</tr>\n",
              "</table>\n",
              "<table class=\"simpletable\">\n",
              "<tr>\n",
              "  <th>Omnibus:</th>       <td>16.445</td> <th>  Durbin-Watson:     </th> <td>   1.728</td>\n",
              "</tr>\n",
              "<tr>\n",
              "  <th>Prob(Omnibus):</th> <td> 0.000</td> <th>  Jarque-Bera (JB):  </th> <td>  32.771</td>\n",
              "</tr>\n",
              "<tr>\n",
              "  <th>Skew:</th>          <td> 0.605</td> <th>  Prob(JB):          </th> <td>7.65e-08</td>\n",
              "</tr>\n",
              "<tr>\n",
              "  <th>Kurtosis:</th>      <td> 5.500</td> <th>  Cond. No.          </th> <td>3.65e+06</td>\n",
              "</tr>\n",
              "</table><br/><br/>Notes:<br/>[1] Standard Errors assume that the covariance matrix of the errors is correctly specified.<br/>[2] The condition number is large, 3.65e+06. This might indicate that there are<br/>strong multicollinearity or other numerical problems."
            ],
            "text/latex": "\\begin{center}\n\\begin{tabular}{lclc}\n\\toprule\n\\textbf{Dep. Variable:}    &     Balance      & \\textbf{  R-squared:         } &     0.947   \\\\\n\\textbf{Model:}            &       OLS        & \\textbf{  Adj. R-squared:    } &     0.944   \\\\\n\\textbf{Method:}           &  Least Squares   & \\textbf{  F-statistic:       } &     342.4   \\\\\n\\textbf{Date:}             & Tue, 25 Feb 2025 & \\textbf{  Prob (F-statistic):} &  1.52e-59   \\\\\n\\textbf{Time:}             &     09:09:26     & \\textbf{  Log-Likelihood:    } &   -919.73   \\\\\n\\textbf{No. Observations:} &         102      & \\textbf{  AIC:               } &     1851.   \\\\\n\\textbf{Df Residuals:}     &          96      & \\textbf{  BIC:               } &     1867.   \\\\\n\\textbf{Df Model:}         &           5      & \\textbf{                     } &             \\\\\n\\textbf{Covariance Type:}  &    nonrobust     & \\textbf{                     } &             \\\\\n\\bottomrule\n\\end{tabular}\n\\begin{tabular}{lcccccc}\n                   & \\textbf{coef} & \\textbf{std err} & \\textbf{t} & \\textbf{P$> |$t$|$} & \\textbf{[0.025} & \\textbf{0.975]}  \\\\\n\\midrule\n\\textbf{Intercept} &   -1.071e+04  &     4260.976     &    -2.514  &         0.014        &    -1.92e+04    &    -2252.672     \\\\\n\\textbf{Age}       &     318.6650  &       60.986     &     5.225  &         0.000        &      197.608    &      439.721     \\\\\n\\textbf{Education} &     621.8603  &      318.960     &     1.950  &         0.054        &      -11.269    &     1254.990     \\\\\n\\textbf{Income}    &       0.1463  &        0.041     &     3.588  &         0.001        &        0.065    &        0.227     \\\\\n\\textbf{HomeValue} &       0.0092  &        0.011     &     0.832  &         0.408        &       -0.013    &        0.031     \\\\\n\\textbf{Wealth}    &       0.0743  &        0.011     &     6.643  &         0.000        &        0.052    &        0.097     \\\\\n\\bottomrule\n\\end{tabular}\n\\begin{tabular}{lclc}\n\\textbf{Omnibus:}       & 16.445 & \\textbf{  Durbin-Watson:     } &    1.728  \\\\\n\\textbf{Prob(Omnibus):} &  0.000 & \\textbf{  Jarque-Bera (JB):  } &   32.771  \\\\\n\\textbf{Skew:}          &  0.605 & \\textbf{  Prob(JB):          } & 7.65e-08  \\\\\n\\textbf{Kurtosis:}      &  5.500 & \\textbf{  Cond. No.          } & 3.65e+06  \\\\\n\\bottomrule\n\\end{tabular}\n%\\caption{OLS Regression Results}\n\\end{center}\n\nNotes: \\newline\n [1] Standard Errors assume that the covariance matrix of the errors is correctly specified. \\newline\n [2] The condition number is large, 3.65e+06. This might indicate that there are \\newline\n strong multicollinearity or other numerical problems."
          },
          "metadata": {},
          "execution_count": 117
        }
      ]
    },
    {
      "cell_type": "code",
      "source": [
        ">>> #X = df[['Age', 'Education', 'Income', 'Wealth']]\n",
        ">>> model = smf.ols(formula='Balance~Age+Education+Income+Wealth', data=df).fit()\n",
        ">>> model.summary()"
      ],
      "metadata": {
        "colab": {
          "base_uri": "https://localhost:8080/",
          "height": 550
        },
        "id": "WpLtoC6OSxPo",
        "outputId": "6941f567-590f-42d1-dc8c-9285ca7d1cd2"
      },
      "execution_count": null,
      "outputs": [
        {
          "output_type": "execute_result",
          "data": {
            "text/plain": [
              "<class 'statsmodels.iolib.summary.Summary'>\n",
              "\"\"\"\n",
              "                            OLS Regression Results                            \n",
              "==============================================================================\n",
              "Dep. Variable:                Balance   R-squared:                       0.947\n",
              "Model:                            OLS   Adj. R-squared:                  0.944\n",
              "Method:                 Least Squares   F-statistic:                     429.2\n",
              "Date:                Tue, 25 Feb 2025   Prob (F-statistic):           9.69e-61\n",
              "Time:                        09:09:26   Log-Likelihood:                -920.10\n",
              "No. Observations:                 102   AIC:                             1850.\n",
              "Df Residuals:                      97   BIC:                             1863.\n",
              "Df Model:                           4                                         \n",
              "Covariance Type:            nonrobust                                         \n",
              "==============================================================================\n",
              "                 coef    std err          t      P>|t|      [0.025      0.975]\n",
              "------------------------------------------------------------------------------\n",
              "Intercept  -1.243e+04   3718.674     -3.343      0.001   -1.98e+04   -5051.918\n",
              "Age          325.0653     60.403      5.382      0.000     205.182     444.948\n",
              "Education    773.3800    261.433      2.958      0.004     254.508    1292.252\n",
              "Income         0.1597      0.037      4.272      0.000       0.086       0.234\n",
              "Wealth         0.0730      0.011      6.603      0.000       0.051       0.095\n",
              "==============================================================================\n",
              "Omnibus:                       15.481   Durbin-Watson:                   1.737\n",
              "Prob(Omnibus):                  0.000   Jarque-Bera (JB):               26.777\n",
              "Skew:                           0.626   Prob(JB):                     1.53e-06\n",
              "Kurtosis:                       5.176   Cond. No.                     2.47e+06\n",
              "==============================================================================\n",
              "\n",
              "Notes:\n",
              "[1] Standard Errors assume that the covariance matrix of the errors is correctly specified.\n",
              "[2] The condition number is large, 2.47e+06. This might indicate that there are\n",
              "strong multicollinearity or other numerical problems.\n",
              "\"\"\""
            ],
            "text/html": [
              "<table class=\"simpletable\">\n",
              "<caption>OLS Regression Results</caption>\n",
              "<tr>\n",
              "  <th>Dep. Variable:</th>         <td>Balance</td>     <th>  R-squared:         </th> <td>   0.947</td>\n",
              "</tr>\n",
              "<tr>\n",
              "  <th>Model:</th>                   <td>OLS</td>       <th>  Adj. R-squared:    </th> <td>   0.944</td>\n",
              "</tr>\n",
              "<tr>\n",
              "  <th>Method:</th>             <td>Least Squares</td>  <th>  F-statistic:       </th> <td>   429.2</td>\n",
              "</tr>\n",
              "<tr>\n",
              "  <th>Date:</th>             <td>Tue, 25 Feb 2025</td> <th>  Prob (F-statistic):</th> <td>9.69e-61</td>\n",
              "</tr>\n",
              "<tr>\n",
              "  <th>Time:</th>                 <td>09:09:26</td>     <th>  Log-Likelihood:    </th> <td> -920.10</td>\n",
              "</tr>\n",
              "<tr>\n",
              "  <th>No. Observations:</th>      <td>   102</td>      <th>  AIC:               </th> <td>   1850.</td>\n",
              "</tr>\n",
              "<tr>\n",
              "  <th>Df Residuals:</th>          <td>    97</td>      <th>  BIC:               </th> <td>   1863.</td>\n",
              "</tr>\n",
              "<tr>\n",
              "  <th>Df Model:</th>              <td>     4</td>      <th>                     </th>     <td> </td>   \n",
              "</tr>\n",
              "<tr>\n",
              "  <th>Covariance Type:</th>      <td>nonrobust</td>    <th>                     </th>     <td> </td>   \n",
              "</tr>\n",
              "</table>\n",
              "<table class=\"simpletable\">\n",
              "<tr>\n",
              "      <td></td>         <th>coef</th>     <th>std err</th>      <th>t</th>      <th>P>|t|</th>  <th>[0.025</th>    <th>0.975]</th>  \n",
              "</tr>\n",
              "<tr>\n",
              "  <th>Intercept</th> <td>-1.243e+04</td> <td> 3718.674</td> <td>   -3.343</td> <td> 0.001</td> <td>-1.98e+04</td> <td>-5051.918</td>\n",
              "</tr>\n",
              "<tr>\n",
              "  <th>Age</th>       <td>  325.0653</td> <td>   60.403</td> <td>    5.382</td> <td> 0.000</td> <td>  205.182</td> <td>  444.948</td>\n",
              "</tr>\n",
              "<tr>\n",
              "  <th>Education</th> <td>  773.3800</td> <td>  261.433</td> <td>    2.958</td> <td> 0.004</td> <td>  254.508</td> <td> 1292.252</td>\n",
              "</tr>\n",
              "<tr>\n",
              "  <th>Income</th>    <td>    0.1597</td> <td>    0.037</td> <td>    4.272</td> <td> 0.000</td> <td>    0.086</td> <td>    0.234</td>\n",
              "</tr>\n",
              "<tr>\n",
              "  <th>Wealth</th>    <td>    0.0730</td> <td>    0.011</td> <td>    6.603</td> <td> 0.000</td> <td>    0.051</td> <td>    0.095</td>\n",
              "</tr>\n",
              "</table>\n",
              "<table class=\"simpletable\">\n",
              "<tr>\n",
              "  <th>Omnibus:</th>       <td>15.481</td> <th>  Durbin-Watson:     </th> <td>   1.737</td>\n",
              "</tr>\n",
              "<tr>\n",
              "  <th>Prob(Omnibus):</th> <td> 0.000</td> <th>  Jarque-Bera (JB):  </th> <td>  26.777</td>\n",
              "</tr>\n",
              "<tr>\n",
              "  <th>Skew:</th>          <td> 0.626</td> <th>  Prob(JB):          </th> <td>1.53e-06</td>\n",
              "</tr>\n",
              "<tr>\n",
              "  <th>Kurtosis:</th>      <td> 5.176</td> <th>  Cond. No.          </th> <td>2.47e+06</td>\n",
              "</tr>\n",
              "</table><br/><br/>Notes:<br/>[1] Standard Errors assume that the covariance matrix of the errors is correctly specified.<br/>[2] The condition number is large, 2.47e+06. This might indicate that there are<br/>strong multicollinearity or other numerical problems."
            ],
            "text/latex": "\\begin{center}\n\\begin{tabular}{lclc}\n\\toprule\n\\textbf{Dep. Variable:}    &     Balance      & \\textbf{  R-squared:         } &     0.947   \\\\\n\\textbf{Model:}            &       OLS        & \\textbf{  Adj. R-squared:    } &     0.944   \\\\\n\\textbf{Method:}           &  Least Squares   & \\textbf{  F-statistic:       } &     429.2   \\\\\n\\textbf{Date:}             & Tue, 25 Feb 2025 & \\textbf{  Prob (F-statistic):} &  9.69e-61   \\\\\n\\textbf{Time:}             &     09:09:26     & \\textbf{  Log-Likelihood:    } &   -920.10   \\\\\n\\textbf{No. Observations:} &         102      & \\textbf{  AIC:               } &     1850.   \\\\\n\\textbf{Df Residuals:}     &          97      & \\textbf{  BIC:               } &     1863.   \\\\\n\\textbf{Df Model:}         &           4      & \\textbf{                     } &             \\\\\n\\textbf{Covariance Type:}  &    nonrobust     & \\textbf{                     } &             \\\\\n\\bottomrule\n\\end{tabular}\n\\begin{tabular}{lcccccc}\n                   & \\textbf{coef} & \\textbf{std err} & \\textbf{t} & \\textbf{P$> |$t$|$} & \\textbf{[0.025} & \\textbf{0.975]}  \\\\\n\\midrule\n\\textbf{Intercept} &   -1.243e+04  &     3718.674     &    -3.343  &         0.001        &    -1.98e+04    &    -5051.918     \\\\\n\\textbf{Age}       &     325.0653  &       60.403     &     5.382  &         0.000        &      205.182    &      444.948     \\\\\n\\textbf{Education} &     773.3800  &      261.433     &     2.958  &         0.004        &      254.508    &     1292.252     \\\\\n\\textbf{Income}    &       0.1597  &        0.037     &     4.272  &         0.000        &        0.086    &        0.234     \\\\\n\\textbf{Wealth}    &       0.0730  &        0.011     &     6.603  &         0.000        &        0.051    &        0.095     \\\\\n\\bottomrule\n\\end{tabular}\n\\begin{tabular}{lclc}\n\\textbf{Omnibus:}       & 15.481 & \\textbf{  Durbin-Watson:     } &    1.737  \\\\\n\\textbf{Prob(Omnibus):} &  0.000 & \\textbf{  Jarque-Bera (JB):  } &   26.777  \\\\\n\\textbf{Skew:}          &  0.626 & \\textbf{  Prob(JB):          } & 1.53e-06  \\\\\n\\textbf{Kurtosis:}      &  5.176 & \\textbf{  Cond. No.          } & 2.47e+06  \\\\\n\\bottomrule\n\\end{tabular}\n%\\caption{OLS Regression Results}\n\\end{center}\n\nNotes: \\newline\n [1] Standard Errors assume that the covariance matrix of the errors is correctly specified. \\newline\n [2] The condition number is large, 2.47e+06. This might indicate that there are \\newline\n strong multicollinearity or other numerical problems."
          },
          "metadata": {},
          "execution_count": 118
        }
      ]
    },
    {
      "cell_type": "code",
      "source": [
        ">>> model.rsquared_adj"
      ],
      "metadata": {
        "colab": {
          "base_uri": "https://localhost:8080/"
        },
        "id": "DLSqPAzJSz-i",
        "outputId": "a9d3a070-ef09-48a7-fa03-4e716a9962ae"
      },
      "execution_count": null,
      "outputs": [
        {
          "output_type": "execute_result",
          "data": {
            "text/plain": [
              "0.9443205469112058"
            ]
          },
          "metadata": {},
          "execution_count": 119
        }
      ]
    },
    {
      "cell_type": "code",
      "source": [
        ">>> mydf= df[['Age', 'Education', 'Income', 'HomeValue', 'Wealth']]\n",
        ">>> mydf.corr()"
      ],
      "metadata": {
        "colab": {
          "base_uri": "https://localhost:8080/",
          "height": 206
        },
        "id": "tUqBNIEdS10J",
        "outputId": "51e1fa9d-35ae-48de-e16e-f382b6807e61"
      },
      "execution_count": null,
      "outputs": [
        {
          "output_type": "execute_result",
          "data": {
            "text/plain": [
              "                Age  Education    Income  HomeValue    Wealth\n",
              "Age        1.000000   0.173407  0.477147   0.386493  0.468092\n",
              "Education  0.173407   1.000000  0.575394   0.753521  0.469413\n",
              "Income     0.477147   0.575394  1.000000   0.795355  0.946665\n",
              "HomeValue  0.386493   0.753521  0.795355   1.000000  0.698478\n",
              "Wealth     0.468092   0.469413  0.946665   0.698478  1.000000"
            ],
            "text/html": [
              "\n",
              "  <div id=\"df-33871c22-9d75-429a-9468-b4c027a0003d\" class=\"colab-df-container\">\n",
              "    <div>\n",
              "<style scoped>\n",
              "    .dataframe tbody tr th:only-of-type {\n",
              "        vertical-align: middle;\n",
              "    }\n",
              "\n",
              "    .dataframe tbody tr th {\n",
              "        vertical-align: top;\n",
              "    }\n",
              "\n",
              "    .dataframe thead th {\n",
              "        text-align: right;\n",
              "    }\n",
              "</style>\n",
              "<table border=\"1\" class=\"dataframe\">\n",
              "  <thead>\n",
              "    <tr style=\"text-align: right;\">\n",
              "      <th></th>\n",
              "      <th>Age</th>\n",
              "      <th>Education</th>\n",
              "      <th>Income</th>\n",
              "      <th>HomeValue</th>\n",
              "      <th>Wealth</th>\n",
              "    </tr>\n",
              "  </thead>\n",
              "  <tbody>\n",
              "    <tr>\n",
              "      <th>Age</th>\n",
              "      <td>1.000000</td>\n",
              "      <td>0.173407</td>\n",
              "      <td>0.477147</td>\n",
              "      <td>0.386493</td>\n",
              "      <td>0.468092</td>\n",
              "    </tr>\n",
              "    <tr>\n",
              "      <th>Education</th>\n",
              "      <td>0.173407</td>\n",
              "      <td>1.000000</td>\n",
              "      <td>0.575394</td>\n",
              "      <td>0.753521</td>\n",
              "      <td>0.469413</td>\n",
              "    </tr>\n",
              "    <tr>\n",
              "      <th>Income</th>\n",
              "      <td>0.477147</td>\n",
              "      <td>0.575394</td>\n",
              "      <td>1.000000</td>\n",
              "      <td>0.795355</td>\n",
              "      <td>0.946665</td>\n",
              "    </tr>\n",
              "    <tr>\n",
              "      <th>HomeValue</th>\n",
              "      <td>0.386493</td>\n",
              "      <td>0.753521</td>\n",
              "      <td>0.795355</td>\n",
              "      <td>1.000000</td>\n",
              "      <td>0.698478</td>\n",
              "    </tr>\n",
              "    <tr>\n",
              "      <th>Wealth</th>\n",
              "      <td>0.468092</td>\n",
              "      <td>0.469413</td>\n",
              "      <td>0.946665</td>\n",
              "      <td>0.698478</td>\n",
              "      <td>1.000000</td>\n",
              "    </tr>\n",
              "  </tbody>\n",
              "</table>\n",
              "</div>\n",
              "    <div class=\"colab-df-buttons\">\n",
              "\n",
              "  <div class=\"colab-df-container\">\n",
              "    <button class=\"colab-df-convert\" onclick=\"convertToInteractive('df-33871c22-9d75-429a-9468-b4c027a0003d')\"\n",
              "            title=\"Convert this dataframe to an interactive table.\"\n",
              "            style=\"display:none;\">\n",
              "\n",
              "  <svg xmlns=\"http://www.w3.org/2000/svg\" height=\"24px\" viewBox=\"0 -960 960 960\">\n",
              "    <path d=\"M120-120v-720h720v720H120Zm60-500h600v-160H180v160Zm220 220h160v-160H400v160Zm0 220h160v-160H400v160ZM180-400h160v-160H180v160Zm440 0h160v-160H620v160ZM180-180h160v-160H180v160Zm440 0h160v-160H620v160Z\"/>\n",
              "  </svg>\n",
              "    </button>\n",
              "\n",
              "  <style>\n",
              "    .colab-df-container {\n",
              "      display:flex;\n",
              "      gap: 12px;\n",
              "    }\n",
              "\n",
              "    .colab-df-convert {\n",
              "      background-color: #E8F0FE;\n",
              "      border: none;\n",
              "      border-radius: 50%;\n",
              "      cursor: pointer;\n",
              "      display: none;\n",
              "      fill: #1967D2;\n",
              "      height: 32px;\n",
              "      padding: 0 0 0 0;\n",
              "      width: 32px;\n",
              "    }\n",
              "\n",
              "    .colab-df-convert:hover {\n",
              "      background-color: #E2EBFA;\n",
              "      box-shadow: 0px 1px 2px rgba(60, 64, 67, 0.3), 0px 1px 3px 1px rgba(60, 64, 67, 0.15);\n",
              "      fill: #174EA6;\n",
              "    }\n",
              "\n",
              "    .colab-df-buttons div {\n",
              "      margin-bottom: 4px;\n",
              "    }\n",
              "\n",
              "    [theme=dark] .colab-df-convert {\n",
              "      background-color: #3B4455;\n",
              "      fill: #D2E3FC;\n",
              "    }\n",
              "\n",
              "    [theme=dark] .colab-df-convert:hover {\n",
              "      background-color: #434B5C;\n",
              "      box-shadow: 0px 1px 3px 1px rgba(0, 0, 0, 0.15);\n",
              "      filter: drop-shadow(0px 1px 2px rgba(0, 0, 0, 0.3));\n",
              "      fill: #FFFFFF;\n",
              "    }\n",
              "  </style>\n",
              "\n",
              "    <script>\n",
              "      const buttonEl =\n",
              "        document.querySelector('#df-33871c22-9d75-429a-9468-b4c027a0003d button.colab-df-convert');\n",
              "      buttonEl.style.display =\n",
              "        google.colab.kernel.accessAllowed ? 'block' : 'none';\n",
              "\n",
              "      async function convertToInteractive(key) {\n",
              "        const element = document.querySelector('#df-33871c22-9d75-429a-9468-b4c027a0003d');\n",
              "        const dataTable =\n",
              "          await google.colab.kernel.invokeFunction('convertToInteractive',\n",
              "                                                    [key], {});\n",
              "        if (!dataTable) return;\n",
              "\n",
              "        const docLinkHtml = 'Like what you see? Visit the ' +\n",
              "          '<a target=\"_blank\" href=https://colab.research.google.com/notebooks/data_table.ipynb>data table notebook</a>'\n",
              "          + ' to learn more about interactive tables.';\n",
              "        element.innerHTML = '';\n",
              "        dataTable['output_type'] = 'display_data';\n",
              "        await google.colab.output.renderOutput(dataTable, element);\n",
              "        const docLink = document.createElement('div');\n",
              "        docLink.innerHTML = docLinkHtml;\n",
              "        element.appendChild(docLink);\n",
              "      }\n",
              "    </script>\n",
              "  </div>\n",
              "\n",
              "\n",
              "<div id=\"df-1431de14-ff61-4306-a161-d77e8db42570\">\n",
              "  <button class=\"colab-df-quickchart\" onclick=\"quickchart('df-1431de14-ff61-4306-a161-d77e8db42570')\"\n",
              "            title=\"Suggest charts\"\n",
              "            style=\"display:none;\">\n",
              "\n",
              "<svg xmlns=\"http://www.w3.org/2000/svg\" height=\"24px\"viewBox=\"0 0 24 24\"\n",
              "     width=\"24px\">\n",
              "    <g>\n",
              "        <path d=\"M19 3H5c-1.1 0-2 .9-2 2v14c0 1.1.9 2 2 2h14c1.1 0 2-.9 2-2V5c0-1.1-.9-2-2-2zM9 17H7v-7h2v7zm4 0h-2V7h2v10zm4 0h-2v-4h2v4z\"/>\n",
              "    </g>\n",
              "</svg>\n",
              "  </button>\n",
              "\n",
              "<style>\n",
              "  .colab-df-quickchart {\n",
              "      --bg-color: #E8F0FE;\n",
              "      --fill-color: #1967D2;\n",
              "      --hover-bg-color: #E2EBFA;\n",
              "      --hover-fill-color: #174EA6;\n",
              "      --disabled-fill-color: #AAA;\n",
              "      --disabled-bg-color: #DDD;\n",
              "  }\n",
              "\n",
              "  [theme=dark] .colab-df-quickchart {\n",
              "      --bg-color: #3B4455;\n",
              "      --fill-color: #D2E3FC;\n",
              "      --hover-bg-color: #434B5C;\n",
              "      --hover-fill-color: #FFFFFF;\n",
              "      --disabled-bg-color: #3B4455;\n",
              "      --disabled-fill-color: #666;\n",
              "  }\n",
              "\n",
              "  .colab-df-quickchart {\n",
              "    background-color: var(--bg-color);\n",
              "    border: none;\n",
              "    border-radius: 50%;\n",
              "    cursor: pointer;\n",
              "    display: none;\n",
              "    fill: var(--fill-color);\n",
              "    height: 32px;\n",
              "    padding: 0;\n",
              "    width: 32px;\n",
              "  }\n",
              "\n",
              "  .colab-df-quickchart:hover {\n",
              "    background-color: var(--hover-bg-color);\n",
              "    box-shadow: 0 1px 2px rgba(60, 64, 67, 0.3), 0 1px 3px 1px rgba(60, 64, 67, 0.15);\n",
              "    fill: var(--button-hover-fill-color);\n",
              "  }\n",
              "\n",
              "  .colab-df-quickchart-complete:disabled,\n",
              "  .colab-df-quickchart-complete:disabled:hover {\n",
              "    background-color: var(--disabled-bg-color);\n",
              "    fill: var(--disabled-fill-color);\n",
              "    box-shadow: none;\n",
              "  }\n",
              "\n",
              "  .colab-df-spinner {\n",
              "    border: 2px solid var(--fill-color);\n",
              "    border-color: transparent;\n",
              "    border-bottom-color: var(--fill-color);\n",
              "    animation:\n",
              "      spin 1s steps(1) infinite;\n",
              "  }\n",
              "\n",
              "  @keyframes spin {\n",
              "    0% {\n",
              "      border-color: transparent;\n",
              "      border-bottom-color: var(--fill-color);\n",
              "      border-left-color: var(--fill-color);\n",
              "    }\n",
              "    20% {\n",
              "      border-color: transparent;\n",
              "      border-left-color: var(--fill-color);\n",
              "      border-top-color: var(--fill-color);\n",
              "    }\n",
              "    30% {\n",
              "      border-color: transparent;\n",
              "      border-left-color: var(--fill-color);\n",
              "      border-top-color: var(--fill-color);\n",
              "      border-right-color: var(--fill-color);\n",
              "    }\n",
              "    40% {\n",
              "      border-color: transparent;\n",
              "      border-right-color: var(--fill-color);\n",
              "      border-top-color: var(--fill-color);\n",
              "    }\n",
              "    60% {\n",
              "      border-color: transparent;\n",
              "      border-right-color: var(--fill-color);\n",
              "    }\n",
              "    80% {\n",
              "      border-color: transparent;\n",
              "      border-right-color: var(--fill-color);\n",
              "      border-bottom-color: var(--fill-color);\n",
              "    }\n",
              "    90% {\n",
              "      border-color: transparent;\n",
              "      border-bottom-color: var(--fill-color);\n",
              "    }\n",
              "  }\n",
              "</style>\n",
              "\n",
              "  <script>\n",
              "    async function quickchart(key) {\n",
              "      const quickchartButtonEl =\n",
              "        document.querySelector('#' + key + ' button');\n",
              "      quickchartButtonEl.disabled = true;  // To prevent multiple clicks.\n",
              "      quickchartButtonEl.classList.add('colab-df-spinner');\n",
              "      try {\n",
              "        const charts = await google.colab.kernel.invokeFunction(\n",
              "            'suggestCharts', [key], {});\n",
              "      } catch (error) {\n",
              "        console.error('Error during call to suggestCharts:', error);\n",
              "      }\n",
              "      quickchartButtonEl.classList.remove('colab-df-spinner');\n",
              "      quickchartButtonEl.classList.add('colab-df-quickchart-complete');\n",
              "    }\n",
              "    (() => {\n",
              "      let quickchartButtonEl =\n",
              "        document.querySelector('#df-1431de14-ff61-4306-a161-d77e8db42570 button');\n",
              "      quickchartButtonEl.style.display =\n",
              "        google.colab.kernel.accessAllowed ? 'block' : 'none';\n",
              "    })();\n",
              "  </script>\n",
              "</div>\n",
              "\n",
              "    </div>\n",
              "  </div>\n"
            ],
            "application/vnd.google.colaboratory.intrinsic+json": {
              "type": "dataframe",
              "summary": "{\n  \"name\": \"mydf\",\n  \"rows\": 5,\n  \"fields\": [\n    {\n      \"column\": \"Age\",\n      \"properties\": {\n        \"dtype\": \"number\",\n        \"std\": 0.30458241786812845,\n        \"min\": 0.1734071470340201,\n        \"max\": 1.0,\n        \"num_unique_values\": 5,\n        \"samples\": [\n          0.1734071470340201,\n          0.4680917908626458,\n          0.47714739980837934\n        ],\n        \"semantic_type\": \"\",\n        \"description\": \"\"\n      }\n    },\n    {\n      \"column\": \"Education\",\n      \"properties\": {\n        \"dtype\": \"number\",\n        \"std\": 0.30945468604476223,\n        \"min\": 0.1734071470340201,\n        \"max\": 1.0,\n        \"num_unique_values\": 5,\n        \"samples\": [\n          1.0,\n          0.46941303527980627,\n          0.5753940195705889\n        ],\n        \"semantic_type\": \"\",\n        \"description\": \"\"\n      }\n    },\n    {\n      \"column\": \"Income\",\n      \"properties\": {\n        \"dtype\": \"number\",\n        \"std\": 0.22791063119095192,\n        \"min\": 0.47714739980837934,\n        \"max\": 1.0,\n        \"num_unique_values\": 5,\n        \"samples\": [\n          0.5753940195705889,\n          0.9466654465095906,\n          1.0\n        ],\n        \"semantic_type\": \"\",\n        \"description\": \"\"\n      }\n    },\n    {\n      \"column\": \"HomeValue\",\n      \"properties\": {\n        \"dtype\": \"number\",\n        \"std\": 0.2217335025647801,\n        \"min\": 0.3864931141458064,\n        \"max\": 1.0,\n        \"num_unique_values\": 5,\n        \"samples\": [\n          0.7535210670724314,\n          0.6984777887144744,\n          0.7953551579036221\n        ],\n        \"semantic_type\": \"\",\n        \"description\": \"\"\n      }\n    },\n    {\n      \"column\": \"Wealth\",\n      \"properties\": {\n        \"dtype\": \"number\",\n        \"std\": 0.253195470429277,\n        \"min\": 0.4680917908626458,\n        \"max\": 1.0,\n        \"num_unique_values\": 5,\n        \"samples\": [\n          0.46941303527980627,\n          1.0,\n          0.9466654465095906\n        ],\n        \"semantic_type\": \"\",\n        \"description\": \"\"\n      }\n    }\n  ]\n}"
            }
          },
          "metadata": {},
          "execution_count": 120
        }
      ]
    },
    {
      "cell_type": "code",
      "source": [
        ">>> #X1 = df[['Age', 'Education', 'Income']]\n",
        ">>> #y = df['Balance']\n",
        ">>> model1 = smf.ols(formula='Balance~Age+Education+Income', data=df).fit()\n",
        ">>> model1.summary()\n"
      ],
      "metadata": {
        "colab": {
          "base_uri": "https://localhost:8080/",
          "height": 529
        },
        "id": "G0dGITzQS5l0",
        "outputId": "ad63b34c-6ca6-4f76-ea98-b911f47cfa18"
      },
      "execution_count": null,
      "outputs": [
        {
          "output_type": "execute_result",
          "data": {
            "text/plain": [
              "<class 'statsmodels.iolib.summary.Summary'>\n",
              "\"\"\"\n",
              "                            OLS Regression Results                            \n",
              "==============================================================================\n",
              "Dep. Variable:                Balance   R-squared:                       0.922\n",
              "Model:                            OLS   Adj. R-squared:                  0.920\n",
              "Method:                 Least Squares   F-statistic:                     388.8\n",
              "Date:                Tue, 25 Feb 2025   Prob (F-statistic):           2.89e-54\n",
              "Time:                        09:09:27   Log-Likelihood:                -939.03\n",
              "No. Observations:                 102   AIC:                             1886.\n",
              "Df Residuals:                      98   BIC:                             1897.\n",
              "Df Model:                           3                                         \n",
              "Covariance Type:            nonrobust                                         \n",
              "==============================================================================\n",
              "                 coef    std err          t      P>|t|      [0.025      0.975]\n",
              "------------------------------------------------------------------------------\n",
              "Intercept  -9539.9454   4423.059     -2.157      0.033   -1.83e+04    -762.528\n",
              "Age          332.5001     72.335      4.597      0.000     188.953     476.047\n",
              "Education    288.6555    300.534      0.960      0.339    -307.744     885.055\n",
              "Income         0.3871      0.017     22.137      0.000       0.352       0.422\n",
              "==============================================================================\n",
              "Omnibus:                       13.306   Durbin-Watson:                   1.954\n",
              "Prob(Omnibus):                  0.001   Jarque-Bera (JB):               21.552\n",
              "Skew:                           0.557   Prob(JB):                     2.09e-05\n",
              "Kurtosis:                       4.957   Cond. No.                     9.55e+05\n",
              "==============================================================================\n",
              "\n",
              "Notes:\n",
              "[1] Standard Errors assume that the covariance matrix of the errors is correctly specified.\n",
              "[2] The condition number is large, 9.55e+05. This might indicate that there are\n",
              "strong multicollinearity or other numerical problems.\n",
              "\"\"\""
            ],
            "text/html": [
              "<table class=\"simpletable\">\n",
              "<caption>OLS Regression Results</caption>\n",
              "<tr>\n",
              "  <th>Dep. Variable:</th>         <td>Balance</td>     <th>  R-squared:         </th> <td>   0.922</td>\n",
              "</tr>\n",
              "<tr>\n",
              "  <th>Model:</th>                   <td>OLS</td>       <th>  Adj. R-squared:    </th> <td>   0.920</td>\n",
              "</tr>\n",
              "<tr>\n",
              "  <th>Method:</th>             <td>Least Squares</td>  <th>  F-statistic:       </th> <td>   388.8</td>\n",
              "</tr>\n",
              "<tr>\n",
              "  <th>Date:</th>             <td>Tue, 25 Feb 2025</td> <th>  Prob (F-statistic):</th> <td>2.89e-54</td>\n",
              "</tr>\n",
              "<tr>\n",
              "  <th>Time:</th>                 <td>09:09:27</td>     <th>  Log-Likelihood:    </th> <td> -939.03</td>\n",
              "</tr>\n",
              "<tr>\n",
              "  <th>No. Observations:</th>      <td>   102</td>      <th>  AIC:               </th> <td>   1886.</td>\n",
              "</tr>\n",
              "<tr>\n",
              "  <th>Df Residuals:</th>          <td>    98</td>      <th>  BIC:               </th> <td>   1897.</td>\n",
              "</tr>\n",
              "<tr>\n",
              "  <th>Df Model:</th>              <td>     3</td>      <th>                     </th>     <td> </td>   \n",
              "</tr>\n",
              "<tr>\n",
              "  <th>Covariance Type:</th>      <td>nonrobust</td>    <th>                     </th>     <td> </td>   \n",
              "</tr>\n",
              "</table>\n",
              "<table class=\"simpletable\">\n",
              "<tr>\n",
              "      <td></td>         <th>coef</th>     <th>std err</th>      <th>t</th>      <th>P>|t|</th>  <th>[0.025</th>    <th>0.975]</th>  \n",
              "</tr>\n",
              "<tr>\n",
              "  <th>Intercept</th> <td>-9539.9454</td> <td> 4423.059</td> <td>   -2.157</td> <td> 0.033</td> <td>-1.83e+04</td> <td> -762.528</td>\n",
              "</tr>\n",
              "<tr>\n",
              "  <th>Age</th>       <td>  332.5001</td> <td>   72.335</td> <td>    4.597</td> <td> 0.000</td> <td>  188.953</td> <td>  476.047</td>\n",
              "</tr>\n",
              "<tr>\n",
              "  <th>Education</th> <td>  288.6555</td> <td>  300.534</td> <td>    0.960</td> <td> 0.339</td> <td> -307.744</td> <td>  885.055</td>\n",
              "</tr>\n",
              "<tr>\n",
              "  <th>Income</th>    <td>    0.3871</td> <td>    0.017</td> <td>   22.137</td> <td> 0.000</td> <td>    0.352</td> <td>    0.422</td>\n",
              "</tr>\n",
              "</table>\n",
              "<table class=\"simpletable\">\n",
              "<tr>\n",
              "  <th>Omnibus:</th>       <td>13.306</td> <th>  Durbin-Watson:     </th> <td>   1.954</td>\n",
              "</tr>\n",
              "<tr>\n",
              "  <th>Prob(Omnibus):</th> <td> 0.001</td> <th>  Jarque-Bera (JB):  </th> <td>  21.552</td>\n",
              "</tr>\n",
              "<tr>\n",
              "  <th>Skew:</th>          <td> 0.557</td> <th>  Prob(JB):          </th> <td>2.09e-05</td>\n",
              "</tr>\n",
              "<tr>\n",
              "  <th>Kurtosis:</th>      <td> 4.957</td> <th>  Cond. No.          </th> <td>9.55e+05</td>\n",
              "</tr>\n",
              "</table><br/><br/>Notes:<br/>[1] Standard Errors assume that the covariance matrix of the errors is correctly specified.<br/>[2] The condition number is large, 9.55e+05. This might indicate that there are<br/>strong multicollinearity or other numerical problems."
            ],
            "text/latex": "\\begin{center}\n\\begin{tabular}{lclc}\n\\toprule\n\\textbf{Dep. Variable:}    &     Balance      & \\textbf{  R-squared:         } &     0.922   \\\\\n\\textbf{Model:}            &       OLS        & \\textbf{  Adj. R-squared:    } &     0.920   \\\\\n\\textbf{Method:}           &  Least Squares   & \\textbf{  F-statistic:       } &     388.8   \\\\\n\\textbf{Date:}             & Tue, 25 Feb 2025 & \\textbf{  Prob (F-statistic):} &  2.89e-54   \\\\\n\\textbf{Time:}             &     09:09:27     & \\textbf{  Log-Likelihood:    } &   -939.03   \\\\\n\\textbf{No. Observations:} &         102      & \\textbf{  AIC:               } &     1886.   \\\\\n\\textbf{Df Residuals:}     &          98      & \\textbf{  BIC:               } &     1897.   \\\\\n\\textbf{Df Model:}         &           3      & \\textbf{                     } &             \\\\\n\\textbf{Covariance Type:}  &    nonrobust     & \\textbf{                     } &             \\\\\n\\bottomrule\n\\end{tabular}\n\\begin{tabular}{lcccccc}\n                   & \\textbf{coef} & \\textbf{std err} & \\textbf{t} & \\textbf{P$> |$t$|$} & \\textbf{[0.025} & \\textbf{0.975]}  \\\\\n\\midrule\n\\textbf{Intercept} &   -9539.9454  &     4423.059     &    -2.157  &         0.033        &    -1.83e+04    &     -762.528     \\\\\n\\textbf{Age}       &     332.5001  &       72.335     &     4.597  &         0.000        &      188.953    &      476.047     \\\\\n\\textbf{Education} &     288.6555  &      300.534     &     0.960  &         0.339        &     -307.744    &      885.055     \\\\\n\\textbf{Income}    &       0.3871  &        0.017     &    22.137  &         0.000        &        0.352    &        0.422     \\\\\n\\bottomrule\n\\end{tabular}\n\\begin{tabular}{lclc}\n\\textbf{Omnibus:}       & 13.306 & \\textbf{  Durbin-Watson:     } &    1.954  \\\\\n\\textbf{Prob(Omnibus):} &  0.001 & \\textbf{  Jarque-Bera (JB):  } &   21.552  \\\\\n\\textbf{Skew:}          &  0.557 & \\textbf{  Prob(JB):          } & 2.09e-05  \\\\\n\\textbf{Kurtosis:}      &  4.957 & \\textbf{  Cond. No.          } & 9.55e+05  \\\\\n\\bottomrule\n\\end{tabular}\n%\\caption{OLS Regression Results}\n\\end{center}\n\nNotes: \\newline\n [1] Standard Errors assume that the covariance matrix of the errors is correctly specified. \\newline\n [2] The condition number is large, 9.55e+05. This might indicate that there are \\newline\n strong multicollinearity or other numerical problems."
          },
          "metadata": {},
          "execution_count": 121
        }
      ]
    },
    {
      "cell_type": "code",
      "source": [
        ">>> #X2 = df[['Age', 'Education', 'Wealth']]\n",
        ">>> #y = df['Balance']\n",
        ">>> model2 = smf.ols(formula='Balance~Age+Education+Wealth', data=df).fit()\n",
        ">>> model2.summary()"
      ],
      "metadata": {
        "colab": {
          "base_uri": "https://localhost:8080/",
          "height": 529
        },
        "id": "B-RM-mRvS6VI",
        "outputId": "8dfb2d4d-f187-4d86-8f4f-319b50bf5075"
      },
      "execution_count": null,
      "outputs": [
        {
          "output_type": "execute_result",
          "data": {
            "text/plain": [
              "<class 'statsmodels.iolib.summary.Summary'>\n",
              "\"\"\"\n",
              "                            OLS Regression Results                            \n",
              "==============================================================================\n",
              "Dep. Variable:                Balance   R-squared:                       0.936\n",
              "Model:                            OLS   Adj. R-squared:                  0.935\n",
              "Method:                 Least Squares   F-statistic:                     481.5\n",
              "Date:                Tue, 25 Feb 2025   Prob (F-statistic):           1.72e-58\n",
              "Time:                        09:09:27   Log-Likelihood:                -928.89\n",
              "No. Observations:                 102   AIC:                             1866.\n",
              "Df Residuals:                      98   BIC:                             1876.\n",
              "Df Model:                           3                                         \n",
              "Covariance Type:            nonrobust                                         \n",
              "==============================================================================\n",
              "                 coef    std err          t      P>|t|      [0.025      0.975]\n",
              "------------------------------------------------------------------------------\n",
              "Intercept  -1.773e+04   3801.663     -4.664      0.000   -2.53e+04   -1.02e+04\n",
              "Age          367.8214     64.598      5.694      0.000     239.628     496.015\n",
              "Education   1300.3087    249.973      5.202      0.000     804.245    1796.372\n",
              "Wealth         0.1165      0.005     24.887      0.000       0.107       0.126\n",
              "==============================================================================\n",
              "Omnibus:                       11.165   Durbin-Watson:                   1.597\n",
              "Prob(Omnibus):                  0.004   Jarque-Bera (JB):               31.474\n",
              "Skew:                           0.001   Prob(JB):                     1.46e-07\n",
              "Kurtosis:                       5.721   Cond. No.                     2.15e+06\n",
              "==============================================================================\n",
              "\n",
              "Notes:\n",
              "[1] Standard Errors assume that the covariance matrix of the errors is correctly specified.\n",
              "[2] The condition number is large, 2.15e+06. This might indicate that there are\n",
              "strong multicollinearity or other numerical problems.\n",
              "\"\"\""
            ],
            "text/html": [
              "<table class=\"simpletable\">\n",
              "<caption>OLS Regression Results</caption>\n",
              "<tr>\n",
              "  <th>Dep. Variable:</th>         <td>Balance</td>     <th>  R-squared:         </th> <td>   0.936</td>\n",
              "</tr>\n",
              "<tr>\n",
              "  <th>Model:</th>                   <td>OLS</td>       <th>  Adj. R-squared:    </th> <td>   0.935</td>\n",
              "</tr>\n",
              "<tr>\n",
              "  <th>Method:</th>             <td>Least Squares</td>  <th>  F-statistic:       </th> <td>   481.5</td>\n",
              "</tr>\n",
              "<tr>\n",
              "  <th>Date:</th>             <td>Tue, 25 Feb 2025</td> <th>  Prob (F-statistic):</th> <td>1.72e-58</td>\n",
              "</tr>\n",
              "<tr>\n",
              "  <th>Time:</th>                 <td>09:09:27</td>     <th>  Log-Likelihood:    </th> <td> -928.89</td>\n",
              "</tr>\n",
              "<tr>\n",
              "  <th>No. Observations:</th>      <td>   102</td>      <th>  AIC:               </th> <td>   1866.</td>\n",
              "</tr>\n",
              "<tr>\n",
              "  <th>Df Residuals:</th>          <td>    98</td>      <th>  BIC:               </th> <td>   1876.</td>\n",
              "</tr>\n",
              "<tr>\n",
              "  <th>Df Model:</th>              <td>     3</td>      <th>                     </th>     <td> </td>   \n",
              "</tr>\n",
              "<tr>\n",
              "  <th>Covariance Type:</th>      <td>nonrobust</td>    <th>                     </th>     <td> </td>   \n",
              "</tr>\n",
              "</table>\n",
              "<table class=\"simpletable\">\n",
              "<tr>\n",
              "      <td></td>         <th>coef</th>     <th>std err</th>      <th>t</th>      <th>P>|t|</th>  <th>[0.025</th>    <th>0.975]</th>  \n",
              "</tr>\n",
              "<tr>\n",
              "  <th>Intercept</th> <td>-1.773e+04</td> <td> 3801.663</td> <td>   -4.664</td> <td> 0.000</td> <td>-2.53e+04</td> <td>-1.02e+04</td>\n",
              "</tr>\n",
              "<tr>\n",
              "  <th>Age</th>       <td>  367.8214</td> <td>   64.598</td> <td>    5.694</td> <td> 0.000</td> <td>  239.628</td> <td>  496.015</td>\n",
              "</tr>\n",
              "<tr>\n",
              "  <th>Education</th> <td> 1300.3087</td> <td>  249.973</td> <td>    5.202</td> <td> 0.000</td> <td>  804.245</td> <td> 1796.372</td>\n",
              "</tr>\n",
              "<tr>\n",
              "  <th>Wealth</th>    <td>    0.1165</td> <td>    0.005</td> <td>   24.887</td> <td> 0.000</td> <td>    0.107</td> <td>    0.126</td>\n",
              "</tr>\n",
              "</table>\n",
              "<table class=\"simpletable\">\n",
              "<tr>\n",
              "  <th>Omnibus:</th>       <td>11.165</td> <th>  Durbin-Watson:     </th> <td>   1.597</td>\n",
              "</tr>\n",
              "<tr>\n",
              "  <th>Prob(Omnibus):</th> <td> 0.004</td> <th>  Jarque-Bera (JB):  </th> <td>  31.474</td>\n",
              "</tr>\n",
              "<tr>\n",
              "  <th>Skew:</th>          <td> 0.001</td> <th>  Prob(JB):          </th> <td>1.46e-07</td>\n",
              "</tr>\n",
              "<tr>\n",
              "  <th>Kurtosis:</th>      <td> 5.721</td> <th>  Cond. No.          </th> <td>2.15e+06</td>\n",
              "</tr>\n",
              "</table><br/><br/>Notes:<br/>[1] Standard Errors assume that the covariance matrix of the errors is correctly specified.<br/>[2] The condition number is large, 2.15e+06. This might indicate that there are<br/>strong multicollinearity or other numerical problems."
            ],
            "text/latex": "\\begin{center}\n\\begin{tabular}{lclc}\n\\toprule\n\\textbf{Dep. Variable:}    &     Balance      & \\textbf{  R-squared:         } &     0.936   \\\\\n\\textbf{Model:}            &       OLS        & \\textbf{  Adj. R-squared:    } &     0.935   \\\\\n\\textbf{Method:}           &  Least Squares   & \\textbf{  F-statistic:       } &     481.5   \\\\\n\\textbf{Date:}             & Tue, 25 Feb 2025 & \\textbf{  Prob (F-statistic):} &  1.72e-58   \\\\\n\\textbf{Time:}             &     09:09:27     & \\textbf{  Log-Likelihood:    } &   -928.89   \\\\\n\\textbf{No. Observations:} &         102      & \\textbf{  AIC:               } &     1866.   \\\\\n\\textbf{Df Residuals:}     &          98      & \\textbf{  BIC:               } &     1876.   \\\\\n\\textbf{Df Model:}         &           3      & \\textbf{                     } &             \\\\\n\\textbf{Covariance Type:}  &    nonrobust     & \\textbf{                     } &             \\\\\n\\bottomrule\n\\end{tabular}\n\\begin{tabular}{lcccccc}\n                   & \\textbf{coef} & \\textbf{std err} & \\textbf{t} & \\textbf{P$> |$t$|$} & \\textbf{[0.025} & \\textbf{0.975]}  \\\\\n\\midrule\n\\textbf{Intercept} &   -1.773e+04  &     3801.663     &    -4.664  &         0.000        &    -2.53e+04    &    -1.02e+04     \\\\\n\\textbf{Age}       &     367.8214  &       64.598     &     5.694  &         0.000        &      239.628    &      496.015     \\\\\n\\textbf{Education} &    1300.3087  &      249.973     &     5.202  &         0.000        &      804.245    &     1796.372     \\\\\n\\textbf{Wealth}    &       0.1165  &        0.005     &    24.887  &         0.000        &        0.107    &        0.126     \\\\\n\\bottomrule\n\\end{tabular}\n\\begin{tabular}{lclc}\n\\textbf{Omnibus:}       & 11.165 & \\textbf{  Durbin-Watson:     } &    1.597  \\\\\n\\textbf{Prob(Omnibus):} &  0.004 & \\textbf{  Jarque-Bera (JB):  } &   31.474  \\\\\n\\textbf{Skew:}          &  0.001 & \\textbf{  Prob(JB):          } & 1.46e-07  \\\\\n\\textbf{Kurtosis:}      &  5.721 & \\textbf{  Cond. No.          } & 2.15e+06  \\\\\n\\bottomrule\n\\end{tabular}\n%\\caption{OLS Regression Results}\n\\end{center}\n\nNotes: \\newline\n [1] Standard Errors assume that the covariance matrix of the errors is correctly specified. \\newline\n [2] The condition number is large, 2.15e+06. This might indicate that there are \\newline\n strong multicollinearity or other numerical problems."
          },
          "metadata": {},
          "execution_count": 122
        }
      ]
    },
    {
      "cell_type": "code",
      "source": [
        ">>> import pandas as pd\n",
        ">>> import numpy as np\n",
        ">>> import matplotlib.pyplot as plt\n",
        ">>> import seaborn as sns\n",
        ">>> from statsmodels.stats.outliers_influence import variance_inflation_factor\n",
        ">>> from statsmodels.tools.tools import add_constant\n"
      ],
      "metadata": {
        "id": "OXMkgCAETEBM"
      },
      "execution_count": null,
      "outputs": []
    },
    {
      "cell_type": "code",
      "source": [
        ">>> df = pd.read_excel('/content/drive/My Drive/Colab Notebooks/dataset/Banking Data.xlsx', skiprows=3)\n",
        ">>> df.head()"
      ],
      "metadata": {
        "colab": {
          "base_uri": "https://localhost:8080/",
          "height": 262
        },
        "id": "MHJk-Qv5S8DX",
        "outputId": "58604416-1fb9-4173-88fc-f9100993a064"
      },
      "execution_count": null,
      "outputs": [
        {
          "output_type": "stream",
          "name": "stderr",
          "text": [
            "/usr/local/lib/python3.11/dist-packages/openpyxl/worksheet/_reader.py:329: UserWarning: Unknown extension is not supported and will be removed\n",
            "  warn(msg)\n"
          ]
        },
        {
          "output_type": "execute_result",
          "data": {
            "text/plain": [
              "    Age  Education  Income  Home Value  Wealth  Balance\n",
              "0  35.9       14.8   91033      183104  220741    38517\n",
              "1  37.7       13.8   86748      163843  223152    40618\n",
              "2  36.8       13.8   72245      142732  176926    35206\n",
              "3  35.3       13.2   70639      145024  166260    33434\n",
              "4  35.3       13.2   64879      135951  148868    28162"
            ],
            "text/html": [
              "\n",
              "  <div id=\"df-18a99d72-f449-4cb8-b06a-57bdf2822726\" class=\"colab-df-container\">\n",
              "    <div>\n",
              "<style scoped>\n",
              "    .dataframe tbody tr th:only-of-type {\n",
              "        vertical-align: middle;\n",
              "    }\n",
              "\n",
              "    .dataframe tbody tr th {\n",
              "        vertical-align: top;\n",
              "    }\n",
              "\n",
              "    .dataframe thead th {\n",
              "        text-align: right;\n",
              "    }\n",
              "</style>\n",
              "<table border=\"1\" class=\"dataframe\">\n",
              "  <thead>\n",
              "    <tr style=\"text-align: right;\">\n",
              "      <th></th>\n",
              "      <th>Age</th>\n",
              "      <th>Education</th>\n",
              "      <th>Income</th>\n",
              "      <th>Home Value</th>\n",
              "      <th>Wealth</th>\n",
              "      <th>Balance</th>\n",
              "    </tr>\n",
              "  </thead>\n",
              "  <tbody>\n",
              "    <tr>\n",
              "      <th>0</th>\n",
              "      <td>35.9</td>\n",
              "      <td>14.8</td>\n",
              "      <td>91033</td>\n",
              "      <td>183104</td>\n",
              "      <td>220741</td>\n",
              "      <td>38517</td>\n",
              "    </tr>\n",
              "    <tr>\n",
              "      <th>1</th>\n",
              "      <td>37.7</td>\n",
              "      <td>13.8</td>\n",
              "      <td>86748</td>\n",
              "      <td>163843</td>\n",
              "      <td>223152</td>\n",
              "      <td>40618</td>\n",
              "    </tr>\n",
              "    <tr>\n",
              "      <th>2</th>\n",
              "      <td>36.8</td>\n",
              "      <td>13.8</td>\n",
              "      <td>72245</td>\n",
              "      <td>142732</td>\n",
              "      <td>176926</td>\n",
              "      <td>35206</td>\n",
              "    </tr>\n",
              "    <tr>\n",
              "      <th>3</th>\n",
              "      <td>35.3</td>\n",
              "      <td>13.2</td>\n",
              "      <td>70639</td>\n",
              "      <td>145024</td>\n",
              "      <td>166260</td>\n",
              "      <td>33434</td>\n",
              "    </tr>\n",
              "    <tr>\n",
              "      <th>4</th>\n",
              "      <td>35.3</td>\n",
              "      <td>13.2</td>\n",
              "      <td>64879</td>\n",
              "      <td>135951</td>\n",
              "      <td>148868</td>\n",
              "      <td>28162</td>\n",
              "    </tr>\n",
              "  </tbody>\n",
              "</table>\n",
              "</div>\n",
              "    <div class=\"colab-df-buttons\">\n",
              "\n",
              "  <div class=\"colab-df-container\">\n",
              "    <button class=\"colab-df-convert\" onclick=\"convertToInteractive('df-18a99d72-f449-4cb8-b06a-57bdf2822726')\"\n",
              "            title=\"Convert this dataframe to an interactive table.\"\n",
              "            style=\"display:none;\">\n",
              "\n",
              "  <svg xmlns=\"http://www.w3.org/2000/svg\" height=\"24px\" viewBox=\"0 -960 960 960\">\n",
              "    <path d=\"M120-120v-720h720v720H120Zm60-500h600v-160H180v160Zm220 220h160v-160H400v160Zm0 220h160v-160H400v160ZM180-400h160v-160H180v160Zm440 0h160v-160H620v160ZM180-180h160v-160H180v160Zm440 0h160v-160H620v160Z\"/>\n",
              "  </svg>\n",
              "    </button>\n",
              "\n",
              "  <style>\n",
              "    .colab-df-container {\n",
              "      display:flex;\n",
              "      gap: 12px;\n",
              "    }\n",
              "\n",
              "    .colab-df-convert {\n",
              "      background-color: #E8F0FE;\n",
              "      border: none;\n",
              "      border-radius: 50%;\n",
              "      cursor: pointer;\n",
              "      display: none;\n",
              "      fill: #1967D2;\n",
              "      height: 32px;\n",
              "      padding: 0 0 0 0;\n",
              "      width: 32px;\n",
              "    }\n",
              "\n",
              "    .colab-df-convert:hover {\n",
              "      background-color: #E2EBFA;\n",
              "      box-shadow: 0px 1px 2px rgba(60, 64, 67, 0.3), 0px 1px 3px 1px rgba(60, 64, 67, 0.15);\n",
              "      fill: #174EA6;\n",
              "    }\n",
              "\n",
              "    .colab-df-buttons div {\n",
              "      margin-bottom: 4px;\n",
              "    }\n",
              "\n",
              "    [theme=dark] .colab-df-convert {\n",
              "      background-color: #3B4455;\n",
              "      fill: #D2E3FC;\n",
              "    }\n",
              "\n",
              "    [theme=dark] .colab-df-convert:hover {\n",
              "      background-color: #434B5C;\n",
              "      box-shadow: 0px 1px 3px 1px rgba(0, 0, 0, 0.15);\n",
              "      filter: drop-shadow(0px 1px 2px rgba(0, 0, 0, 0.3));\n",
              "      fill: #FFFFFF;\n",
              "    }\n",
              "  </style>\n",
              "\n",
              "    <script>\n",
              "      const buttonEl =\n",
              "        document.querySelector('#df-18a99d72-f449-4cb8-b06a-57bdf2822726 button.colab-df-convert');\n",
              "      buttonEl.style.display =\n",
              "        google.colab.kernel.accessAllowed ? 'block' : 'none';\n",
              "\n",
              "      async function convertToInteractive(key) {\n",
              "        const element = document.querySelector('#df-18a99d72-f449-4cb8-b06a-57bdf2822726');\n",
              "        const dataTable =\n",
              "          await google.colab.kernel.invokeFunction('convertToInteractive',\n",
              "                                                    [key], {});\n",
              "        if (!dataTable) return;\n",
              "\n",
              "        const docLinkHtml = 'Like what you see? Visit the ' +\n",
              "          '<a target=\"_blank\" href=https://colab.research.google.com/notebooks/data_table.ipynb>data table notebook</a>'\n",
              "          + ' to learn more about interactive tables.';\n",
              "        element.innerHTML = '';\n",
              "        dataTable['output_type'] = 'display_data';\n",
              "        await google.colab.output.renderOutput(dataTable, element);\n",
              "        const docLink = document.createElement('div');\n",
              "        docLink.innerHTML = docLinkHtml;\n",
              "        element.appendChild(docLink);\n",
              "      }\n",
              "    </script>\n",
              "  </div>\n",
              "\n",
              "\n",
              "<div id=\"df-b9445d43-5a86-4363-8c8c-c90cbb19dead\">\n",
              "  <button class=\"colab-df-quickchart\" onclick=\"quickchart('df-b9445d43-5a86-4363-8c8c-c90cbb19dead')\"\n",
              "            title=\"Suggest charts\"\n",
              "            style=\"display:none;\">\n",
              "\n",
              "<svg xmlns=\"http://www.w3.org/2000/svg\" height=\"24px\"viewBox=\"0 0 24 24\"\n",
              "     width=\"24px\">\n",
              "    <g>\n",
              "        <path d=\"M19 3H5c-1.1 0-2 .9-2 2v14c0 1.1.9 2 2 2h14c1.1 0 2-.9 2-2V5c0-1.1-.9-2-2-2zM9 17H7v-7h2v7zm4 0h-2V7h2v10zm4 0h-2v-4h2v4z\"/>\n",
              "    </g>\n",
              "</svg>\n",
              "  </button>\n",
              "\n",
              "<style>\n",
              "  .colab-df-quickchart {\n",
              "      --bg-color: #E8F0FE;\n",
              "      --fill-color: #1967D2;\n",
              "      --hover-bg-color: #E2EBFA;\n",
              "      --hover-fill-color: #174EA6;\n",
              "      --disabled-fill-color: #AAA;\n",
              "      --disabled-bg-color: #DDD;\n",
              "  }\n",
              "\n",
              "  [theme=dark] .colab-df-quickchart {\n",
              "      --bg-color: #3B4455;\n",
              "      --fill-color: #D2E3FC;\n",
              "      --hover-bg-color: #434B5C;\n",
              "      --hover-fill-color: #FFFFFF;\n",
              "      --disabled-bg-color: #3B4455;\n",
              "      --disabled-fill-color: #666;\n",
              "  }\n",
              "\n",
              "  .colab-df-quickchart {\n",
              "    background-color: var(--bg-color);\n",
              "    border: none;\n",
              "    border-radius: 50%;\n",
              "    cursor: pointer;\n",
              "    display: none;\n",
              "    fill: var(--fill-color);\n",
              "    height: 32px;\n",
              "    padding: 0;\n",
              "    width: 32px;\n",
              "  }\n",
              "\n",
              "  .colab-df-quickchart:hover {\n",
              "    background-color: var(--hover-bg-color);\n",
              "    box-shadow: 0 1px 2px rgba(60, 64, 67, 0.3), 0 1px 3px 1px rgba(60, 64, 67, 0.15);\n",
              "    fill: var(--button-hover-fill-color);\n",
              "  }\n",
              "\n",
              "  .colab-df-quickchart-complete:disabled,\n",
              "  .colab-df-quickchart-complete:disabled:hover {\n",
              "    background-color: var(--disabled-bg-color);\n",
              "    fill: var(--disabled-fill-color);\n",
              "    box-shadow: none;\n",
              "  }\n",
              "\n",
              "  .colab-df-spinner {\n",
              "    border: 2px solid var(--fill-color);\n",
              "    border-color: transparent;\n",
              "    border-bottom-color: var(--fill-color);\n",
              "    animation:\n",
              "      spin 1s steps(1) infinite;\n",
              "  }\n",
              "\n",
              "  @keyframes spin {\n",
              "    0% {\n",
              "      border-color: transparent;\n",
              "      border-bottom-color: var(--fill-color);\n",
              "      border-left-color: var(--fill-color);\n",
              "    }\n",
              "    20% {\n",
              "      border-color: transparent;\n",
              "      border-left-color: var(--fill-color);\n",
              "      border-top-color: var(--fill-color);\n",
              "    }\n",
              "    30% {\n",
              "      border-color: transparent;\n",
              "      border-left-color: var(--fill-color);\n",
              "      border-top-color: var(--fill-color);\n",
              "      border-right-color: var(--fill-color);\n",
              "    }\n",
              "    40% {\n",
              "      border-color: transparent;\n",
              "      border-right-color: var(--fill-color);\n",
              "      border-top-color: var(--fill-color);\n",
              "    }\n",
              "    60% {\n",
              "      border-color: transparent;\n",
              "      border-right-color: var(--fill-color);\n",
              "    }\n",
              "    80% {\n",
              "      border-color: transparent;\n",
              "      border-right-color: var(--fill-color);\n",
              "      border-bottom-color: var(--fill-color);\n",
              "    }\n",
              "    90% {\n",
              "      border-color: transparent;\n",
              "      border-bottom-color: var(--fill-color);\n",
              "    }\n",
              "  }\n",
              "</style>\n",
              "\n",
              "  <script>\n",
              "    async function quickchart(key) {\n",
              "      const quickchartButtonEl =\n",
              "        document.querySelector('#' + key + ' button');\n",
              "      quickchartButtonEl.disabled = true;  // To prevent multiple clicks.\n",
              "      quickchartButtonEl.classList.add('colab-df-spinner');\n",
              "      try {\n",
              "        const charts = await google.colab.kernel.invokeFunction(\n",
              "            'suggestCharts', [key], {});\n",
              "      } catch (error) {\n",
              "        console.error('Error during call to suggestCharts:', error);\n",
              "      }\n",
              "      quickchartButtonEl.classList.remove('colab-df-spinner');\n",
              "      quickchartButtonEl.classList.add('colab-df-quickchart-complete');\n",
              "    }\n",
              "    (() => {\n",
              "      let quickchartButtonEl =\n",
              "        document.querySelector('#df-b9445d43-5a86-4363-8c8c-c90cbb19dead button');\n",
              "      quickchartButtonEl.style.display =\n",
              "        google.colab.kernel.accessAllowed ? 'block' : 'none';\n",
              "    })();\n",
              "  </script>\n",
              "</div>\n",
              "\n",
              "    </div>\n",
              "  </div>\n"
            ],
            "application/vnd.google.colaboratory.intrinsic+json": {
              "type": "dataframe",
              "variable_name": "df",
              "summary": "{\n  \"name\": \"df\",\n  \"rows\": 102,\n  \"fields\": [\n    {\n      \"column\": \"Age\",\n      \"properties\": {\n        \"dtype\": \"number\",\n        \"std\": 3.8864764359964687,\n        \"min\": 19.5,\n        \"max\": 43.1,\n        \"num_unique_values\": 69,\n        \"samples\": [\n          38.9,\n          35.9,\n          37.3\n        ],\n        \"semantic_type\": \"\",\n        \"description\": \"\"\n      }\n    },\n    {\n      \"column\": \"Education\",\n      \"properties\": {\n        \"dtype\": \"number\",\n        \"std\": 1.0051435376866016,\n        \"min\": 11.0,\n        \"max\": 16.1,\n        \"num_unique_values\": 30,\n        \"samples\": [\n          12.0,\n          12.7,\n          12.2\n        ],\n        \"semantic_type\": \"\",\n        \"description\": \"\"\n      }\n    },\n    {\n      \"column\": \"Income\",\n      \"properties\": {\n        \"dtype\": \"number\",\n        \"std\": 19361,\n        \"min\": 7741,\n        \"max\": 111548,\n        \"num_unique_values\": 101,\n        \"samples\": [\n          21433,\n          46036,\n          44520\n        ],\n        \"semantic_type\": \"\",\n        \"description\": \"\"\n      }\n    },\n    {\n      \"column\": \"Home Value\",\n      \"properties\": {\n        \"dtype\": \"number\",\n        \"std\": 38795,\n        \"min\": 40313,\n        \"max\": 276139,\n        \"num_unique_values\": 102,\n        \"samples\": [\n          105647,\n          96112,\n          95364\n        ],\n        \"semantic_type\": \"\",\n        \"description\": \"\"\n      }\n    },\n    {\n      \"column\": \"Wealth\",\n      \"properties\": {\n        \"dtype\": \"number\",\n        \"std\": 59836,\n        \"min\": 24999,\n        \"max\": 331009,\n        \"num_unique_values\": 91,\n        \"samples\": [\n          124474,\n          111168,\n          98343\n        ],\n        \"semantic_type\": \"\",\n        \"description\": \"\"\n      }\n    },\n    {\n      \"column\": \"Balance\",\n      \"properties\": {\n        \"dtype\": \"number\",\n        \"std\": 8697,\n        \"min\": 5956,\n        \"max\": 56569,\n        \"num_unique_values\": 102,\n        \"samples\": [\n          24671,\n          25276,\n          17939\n        ],\n        \"semantic_type\": \"\",\n        \"description\": \"\"\n      }\n    }\n  ]\n}"
            }
          },
          "metadata": {},
          "execution_count": 124
        }
      ]
    },
    {
      "cell_type": "code",
      "source": [
        ">>> X = df[['Age', 'Education', 'Income', 'Home Value', 'Wealth']]\n",
        ">>> X.head()\n"
      ],
      "metadata": {
        "colab": {
          "base_uri": "https://localhost:8080/",
          "height": 206
        },
        "id": "4eIRgLPJTGsZ",
        "outputId": "14764980-237a-41c3-990f-ef8fa73cac9a"
      },
      "execution_count": null,
      "outputs": [
        {
          "output_type": "execute_result",
          "data": {
            "text/plain": [
              "    Age  Education  Income  Home Value  Wealth\n",
              "0  35.9       14.8   91033      183104  220741\n",
              "1  37.7       13.8   86748      163843  223152\n",
              "2  36.8       13.8   72245      142732  176926\n",
              "3  35.3       13.2   70639      145024  166260\n",
              "4  35.3       13.2   64879      135951  148868"
            ],
            "text/html": [
              "\n",
              "  <div id=\"df-294af645-7162-4f60-817c-ea13c4d5a37b\" class=\"colab-df-container\">\n",
              "    <div>\n",
              "<style scoped>\n",
              "    .dataframe tbody tr th:only-of-type {\n",
              "        vertical-align: middle;\n",
              "    }\n",
              "\n",
              "    .dataframe tbody tr th {\n",
              "        vertical-align: top;\n",
              "    }\n",
              "\n",
              "    .dataframe thead th {\n",
              "        text-align: right;\n",
              "    }\n",
              "</style>\n",
              "<table border=\"1\" class=\"dataframe\">\n",
              "  <thead>\n",
              "    <tr style=\"text-align: right;\">\n",
              "      <th></th>\n",
              "      <th>Age</th>\n",
              "      <th>Education</th>\n",
              "      <th>Income</th>\n",
              "      <th>Home Value</th>\n",
              "      <th>Wealth</th>\n",
              "    </tr>\n",
              "  </thead>\n",
              "  <tbody>\n",
              "    <tr>\n",
              "      <th>0</th>\n",
              "      <td>35.9</td>\n",
              "      <td>14.8</td>\n",
              "      <td>91033</td>\n",
              "      <td>183104</td>\n",
              "      <td>220741</td>\n",
              "    </tr>\n",
              "    <tr>\n",
              "      <th>1</th>\n",
              "      <td>37.7</td>\n",
              "      <td>13.8</td>\n",
              "      <td>86748</td>\n",
              "      <td>163843</td>\n",
              "      <td>223152</td>\n",
              "    </tr>\n",
              "    <tr>\n",
              "      <th>2</th>\n",
              "      <td>36.8</td>\n",
              "      <td>13.8</td>\n",
              "      <td>72245</td>\n",
              "      <td>142732</td>\n",
              "      <td>176926</td>\n",
              "    </tr>\n",
              "    <tr>\n",
              "      <th>3</th>\n",
              "      <td>35.3</td>\n",
              "      <td>13.2</td>\n",
              "      <td>70639</td>\n",
              "      <td>145024</td>\n",
              "      <td>166260</td>\n",
              "    </tr>\n",
              "    <tr>\n",
              "      <th>4</th>\n",
              "      <td>35.3</td>\n",
              "      <td>13.2</td>\n",
              "      <td>64879</td>\n",
              "      <td>135951</td>\n",
              "      <td>148868</td>\n",
              "    </tr>\n",
              "  </tbody>\n",
              "</table>\n",
              "</div>\n",
              "    <div class=\"colab-df-buttons\">\n",
              "\n",
              "  <div class=\"colab-df-container\">\n",
              "    <button class=\"colab-df-convert\" onclick=\"convertToInteractive('df-294af645-7162-4f60-817c-ea13c4d5a37b')\"\n",
              "            title=\"Convert this dataframe to an interactive table.\"\n",
              "            style=\"display:none;\">\n",
              "\n",
              "  <svg xmlns=\"http://www.w3.org/2000/svg\" height=\"24px\" viewBox=\"0 -960 960 960\">\n",
              "    <path d=\"M120-120v-720h720v720H120Zm60-500h600v-160H180v160Zm220 220h160v-160H400v160Zm0 220h160v-160H400v160ZM180-400h160v-160H180v160Zm440 0h160v-160H620v160ZM180-180h160v-160H180v160Zm440 0h160v-160H620v160Z\"/>\n",
              "  </svg>\n",
              "    </button>\n",
              "\n",
              "  <style>\n",
              "    .colab-df-container {\n",
              "      display:flex;\n",
              "      gap: 12px;\n",
              "    }\n",
              "\n",
              "    .colab-df-convert {\n",
              "      background-color: #E8F0FE;\n",
              "      border: none;\n",
              "      border-radius: 50%;\n",
              "      cursor: pointer;\n",
              "      display: none;\n",
              "      fill: #1967D2;\n",
              "      height: 32px;\n",
              "      padding: 0 0 0 0;\n",
              "      width: 32px;\n",
              "    }\n",
              "\n",
              "    .colab-df-convert:hover {\n",
              "      background-color: #E2EBFA;\n",
              "      box-shadow: 0px 1px 2px rgba(60, 64, 67, 0.3), 0px 1px 3px 1px rgba(60, 64, 67, 0.15);\n",
              "      fill: #174EA6;\n",
              "    }\n",
              "\n",
              "    .colab-df-buttons div {\n",
              "      margin-bottom: 4px;\n",
              "    }\n",
              "\n",
              "    [theme=dark] .colab-df-convert {\n",
              "      background-color: #3B4455;\n",
              "      fill: #D2E3FC;\n",
              "    }\n",
              "\n",
              "    [theme=dark] .colab-df-convert:hover {\n",
              "      background-color: #434B5C;\n",
              "      box-shadow: 0px 1px 3px 1px rgba(0, 0, 0, 0.15);\n",
              "      filter: drop-shadow(0px 1px 2px rgba(0, 0, 0, 0.3));\n",
              "      fill: #FFFFFF;\n",
              "    }\n",
              "  </style>\n",
              "\n",
              "    <script>\n",
              "      const buttonEl =\n",
              "        document.querySelector('#df-294af645-7162-4f60-817c-ea13c4d5a37b button.colab-df-convert');\n",
              "      buttonEl.style.display =\n",
              "        google.colab.kernel.accessAllowed ? 'block' : 'none';\n",
              "\n",
              "      async function convertToInteractive(key) {\n",
              "        const element = document.querySelector('#df-294af645-7162-4f60-817c-ea13c4d5a37b');\n",
              "        const dataTable =\n",
              "          await google.colab.kernel.invokeFunction('convertToInteractive',\n",
              "                                                    [key], {});\n",
              "        if (!dataTable) return;\n",
              "\n",
              "        const docLinkHtml = 'Like what you see? Visit the ' +\n",
              "          '<a target=\"_blank\" href=https://colab.research.google.com/notebooks/data_table.ipynb>data table notebook</a>'\n",
              "          + ' to learn more about interactive tables.';\n",
              "        element.innerHTML = '';\n",
              "        dataTable['output_type'] = 'display_data';\n",
              "        await google.colab.output.renderOutput(dataTable, element);\n",
              "        const docLink = document.createElement('div');\n",
              "        docLink.innerHTML = docLinkHtml;\n",
              "        element.appendChild(docLink);\n",
              "      }\n",
              "    </script>\n",
              "  </div>\n",
              "\n",
              "\n",
              "<div id=\"df-97985690-4e81-4959-9db8-00eebd85c0e9\">\n",
              "  <button class=\"colab-df-quickchart\" onclick=\"quickchart('df-97985690-4e81-4959-9db8-00eebd85c0e9')\"\n",
              "            title=\"Suggest charts\"\n",
              "            style=\"display:none;\">\n",
              "\n",
              "<svg xmlns=\"http://www.w3.org/2000/svg\" height=\"24px\"viewBox=\"0 0 24 24\"\n",
              "     width=\"24px\">\n",
              "    <g>\n",
              "        <path d=\"M19 3H5c-1.1 0-2 .9-2 2v14c0 1.1.9 2 2 2h14c1.1 0 2-.9 2-2V5c0-1.1-.9-2-2-2zM9 17H7v-7h2v7zm4 0h-2V7h2v10zm4 0h-2v-4h2v4z\"/>\n",
              "    </g>\n",
              "</svg>\n",
              "  </button>\n",
              "\n",
              "<style>\n",
              "  .colab-df-quickchart {\n",
              "      --bg-color: #E8F0FE;\n",
              "      --fill-color: #1967D2;\n",
              "      --hover-bg-color: #E2EBFA;\n",
              "      --hover-fill-color: #174EA6;\n",
              "      --disabled-fill-color: #AAA;\n",
              "      --disabled-bg-color: #DDD;\n",
              "  }\n",
              "\n",
              "  [theme=dark] .colab-df-quickchart {\n",
              "      --bg-color: #3B4455;\n",
              "      --fill-color: #D2E3FC;\n",
              "      --hover-bg-color: #434B5C;\n",
              "      --hover-fill-color: #FFFFFF;\n",
              "      --disabled-bg-color: #3B4455;\n",
              "      --disabled-fill-color: #666;\n",
              "  }\n",
              "\n",
              "  .colab-df-quickchart {\n",
              "    background-color: var(--bg-color);\n",
              "    border: none;\n",
              "    border-radius: 50%;\n",
              "    cursor: pointer;\n",
              "    display: none;\n",
              "    fill: var(--fill-color);\n",
              "    height: 32px;\n",
              "    padding: 0;\n",
              "    width: 32px;\n",
              "  }\n",
              "\n",
              "  .colab-df-quickchart:hover {\n",
              "    background-color: var(--hover-bg-color);\n",
              "    box-shadow: 0 1px 2px rgba(60, 64, 67, 0.3), 0 1px 3px 1px rgba(60, 64, 67, 0.15);\n",
              "    fill: var(--button-hover-fill-color);\n",
              "  }\n",
              "\n",
              "  .colab-df-quickchart-complete:disabled,\n",
              "  .colab-df-quickchart-complete:disabled:hover {\n",
              "    background-color: var(--disabled-bg-color);\n",
              "    fill: var(--disabled-fill-color);\n",
              "    box-shadow: none;\n",
              "  }\n",
              "\n",
              "  .colab-df-spinner {\n",
              "    border: 2px solid var(--fill-color);\n",
              "    border-color: transparent;\n",
              "    border-bottom-color: var(--fill-color);\n",
              "    animation:\n",
              "      spin 1s steps(1) infinite;\n",
              "  }\n",
              "\n",
              "  @keyframes spin {\n",
              "    0% {\n",
              "      border-color: transparent;\n",
              "      border-bottom-color: var(--fill-color);\n",
              "      border-left-color: var(--fill-color);\n",
              "    }\n",
              "    20% {\n",
              "      border-color: transparent;\n",
              "      border-left-color: var(--fill-color);\n",
              "      border-top-color: var(--fill-color);\n",
              "    }\n",
              "    30% {\n",
              "      border-color: transparent;\n",
              "      border-left-color: var(--fill-color);\n",
              "      border-top-color: var(--fill-color);\n",
              "      border-right-color: var(--fill-color);\n",
              "    }\n",
              "    40% {\n",
              "      border-color: transparent;\n",
              "      border-right-color: var(--fill-color);\n",
              "      border-top-color: var(--fill-color);\n",
              "    }\n",
              "    60% {\n",
              "      border-color: transparent;\n",
              "      border-right-color: var(--fill-color);\n",
              "    }\n",
              "    80% {\n",
              "      border-color: transparent;\n",
              "      border-right-color: var(--fill-color);\n",
              "      border-bottom-color: var(--fill-color);\n",
              "    }\n",
              "    90% {\n",
              "      border-color: transparent;\n",
              "      border-bottom-color: var(--fill-color);\n",
              "    }\n",
              "  }\n",
              "</style>\n",
              "\n",
              "  <script>\n",
              "    async function quickchart(key) {\n",
              "      const quickchartButtonEl =\n",
              "        document.querySelector('#' + key + ' button');\n",
              "      quickchartButtonEl.disabled = true;  // To prevent multiple clicks.\n",
              "      quickchartButtonEl.classList.add('colab-df-spinner');\n",
              "      try {\n",
              "        const charts = await google.colab.kernel.invokeFunction(\n",
              "            'suggestCharts', [key], {});\n",
              "      } catch (error) {\n",
              "        console.error('Error during call to suggestCharts:', error);\n",
              "      }\n",
              "      quickchartButtonEl.classList.remove('colab-df-spinner');\n",
              "      quickchartButtonEl.classList.add('colab-df-quickchart-complete');\n",
              "    }\n",
              "    (() => {\n",
              "      let quickchartButtonEl =\n",
              "        document.querySelector('#df-97985690-4e81-4959-9db8-00eebd85c0e9 button');\n",
              "      quickchartButtonEl.style.display =\n",
              "        google.colab.kernel.accessAllowed ? 'block' : 'none';\n",
              "    })();\n",
              "  </script>\n",
              "</div>\n",
              "\n",
              "    </div>\n",
              "  </div>\n"
            ],
            "application/vnd.google.colaboratory.intrinsic+json": {
              "type": "dataframe",
              "variable_name": "X",
              "summary": "{\n  \"name\": \"X\",\n  \"rows\": 102,\n  \"fields\": [\n    {\n      \"column\": \"Age\",\n      \"properties\": {\n        \"dtype\": \"number\",\n        \"std\": 3.8864764359964687,\n        \"min\": 19.5,\n        \"max\": 43.1,\n        \"num_unique_values\": 69,\n        \"samples\": [\n          38.9,\n          35.9,\n          37.3\n        ],\n        \"semantic_type\": \"\",\n        \"description\": \"\"\n      }\n    },\n    {\n      \"column\": \"Education\",\n      \"properties\": {\n        \"dtype\": \"number\",\n        \"std\": 1.0051435376866016,\n        \"min\": 11.0,\n        \"max\": 16.1,\n        \"num_unique_values\": 30,\n        \"samples\": [\n          12.0,\n          12.7,\n          12.2\n        ],\n        \"semantic_type\": \"\",\n        \"description\": \"\"\n      }\n    },\n    {\n      \"column\": \"Income\",\n      \"properties\": {\n        \"dtype\": \"number\",\n        \"std\": 19361,\n        \"min\": 7741,\n        \"max\": 111548,\n        \"num_unique_values\": 101,\n        \"samples\": [\n          21433,\n          46036,\n          44520\n        ],\n        \"semantic_type\": \"\",\n        \"description\": \"\"\n      }\n    },\n    {\n      \"column\": \"Home Value\",\n      \"properties\": {\n        \"dtype\": \"number\",\n        \"std\": 38795,\n        \"min\": 40313,\n        \"max\": 276139,\n        \"num_unique_values\": 102,\n        \"samples\": [\n          105647,\n          96112,\n          95364\n        ],\n        \"semantic_type\": \"\",\n        \"description\": \"\"\n      }\n    },\n    {\n      \"column\": \"Wealth\",\n      \"properties\": {\n        \"dtype\": \"number\",\n        \"std\": 59836,\n        \"min\": 24999,\n        \"max\": 331009,\n        \"num_unique_values\": 91,\n        \"samples\": [\n          124474,\n          111168,\n          98343\n        ],\n        \"semantic_type\": \"\",\n        \"description\": \"\"\n      }\n    }\n  ]\n}"
            }
          },
          "metadata": {},
          "execution_count": 125
        }
      ]
    },
    {
      "cell_type": "code",
      "source": [
        ">>> # Compute the pairwise correlation matrix\n",
        ">>> corr_matrix = X.corr()\n",
        ">>> # Visualize the correlation matrix\n",
        ">>> plt.figure(figsize=(10, 8))\n",
        ">>> sns.heatmap(corr_matrix, annot=True, cmap='coolwarm', vmin=-1, vmax=1)\n",
        ">>> plt.title('Pairwise Correlation Matrix')\n",
        ">>> plt.show()"
      ],
      "metadata": {
        "colab": {
          "base_uri": "https://localhost:8080/",
          "height": 699
        },
        "id": "f7rCM_WVTKZa",
        "outputId": "263b5dae-668a-4187-e82a-16b918b6fdc7"
      },
      "execution_count": null,
      "outputs": [
        {
          "output_type": "display_data",
          "data": {
            "text/plain": [
              "<Figure size 1000x800 with 2 Axes>"
            ],
            "image/png": "[encoded data removed]"
          },
          "metadata": {}
        }
      ]
    },
    {
      "cell_type": "code",
      "source": [
        ">>> # Add a constant to the model (intercept)\n",
        ">>> X = add_constant(X)\n",
        ">>> # Calculate VIF for each feature\n",
        ">>> vif_data = pd.DataFrame()\n",
        ">>> vif_data['Feature'] = X.columns\n",
        ">>> vif_data['VIF'] = [variance_inflation_factor(X.values, i) for i in range(X.shape[1])]\n",
        ">>> print(vif_data)"
      ],
      "metadata": {
        "colab": {
          "base_uri": "https://localhost:8080/"
        },
        "id": "0j2o2HVgTcXA",
        "outputId": "5396eef8-20ab-466e-e01d-14a1f1f8dfab"
      },
      "execution_count": null,
      "outputs": [
        {
          "output_type": "stream",
          "name": "stdout",
          "text": [
            "      Feature         VIF\n",
            "0       const  438.250968\n",
            "1         Age    1.342764\n",
            "2   Education    2.456706\n",
            "3      Income   14.901724\n",
            "4  Home Value    4.382999\n",
            "5      Wealth   10.714276\n"
          ]
        }
      ]
    },
    {
      "cell_type": "code",
      "source": [
        ">>> df= pd.read_excel('/content/drive/My Drive/Colab Notebooks/dataset/Employee Salaries.xlsx', sheet_name='Data', skiprows=2)\n",
        ">>> df.columns"
      ],
      "metadata": {
        "colab": {
          "base_uri": "https://localhost:8080/"
        },
        "id": "oVJtzkAkT_Xm",
        "outputId": "f48fe983-4f7a-40d8-e921-3858a36893f4"
      },
      "execution_count": null,
      "outputs": [
        {
          "output_type": "stream",
          "name": "stderr",
          "text": [
            "/usr/local/lib/python3.11/dist-packages/openpyxl/worksheet/_reader.py:329: UserWarning: Unknown extension is not supported and will be removed\n",
            "  warn(msg)\n"
          ]
        },
        {
          "output_type": "execute_result",
          "data": {
            "text/plain": [
              "Index(['Employee', 'Salary', 'Age', 'MBA'], dtype='object')"
            ]
          },
          "metadata": {},
          "execution_count": 128
        }
      ]
    },
    {
      "cell_type": "code",
      "source": [
        ">>> #df['MBA'] = df.loc[:, 'MBA'].replace(['Yes', 'No'], [1, 0])\n",
        ">>> replace_dict = {'Yes': '1', 'No': '0'}\n",
        ">>> df['MBA'] = df.loc[:, 'MBA'].replace(replace_dict).astype(int)"
      ],
      "metadata": {
        "id": "ZMZKHTpyUFfI"
      },
      "execution_count": null,
      "outputs": []
    },
    {
      "cell_type": "code",
      "source": [
        ">>> model = smf.ols(formula='Salary~Age+MBA', data=df).fit()\n",
        ">>> model.summary()"
      ],
      "metadata": {
        "id": "YDxAGw84UG53",
        "outputId": "ebfe46c4-3e87-420b-ba96-55c35ca01cf4",
        "colab": {
          "base_uri": "https://localhost:8080/",
          "height": 473
        }
      },
      "execution_count": null,
      "outputs": [
        {
          "output_type": "execute_result",
          "data": {
            "text/plain": [
              "<class 'statsmodels.iolib.summary.Summary'>\n",
              "\"\"\"\n",
              "                            OLS Regression Results                            \n",
              "==============================================================================\n",
              "Dep. Variable:                 Salary   R-squared:                       0.953\n",
              "Model:                            OLS   Adj. R-squared:                  0.950\n",
              "Method:                 Least Squares   F-statistic:                     323.0\n",
              "Date:                Tue, 25 Feb 2025   Prob (F-statistic):           6.05e-22\n",
              "Time:                        09:09:27   Log-Likelihood:                -327.63\n",
              "No. Observations:                  35   AIC:                             661.3\n",
              "Df Residuals:                      32   BIC:                             665.9\n",
              "Df Model:                           2                                         \n",
              "Covariance Type:            nonrobust                                         \n",
              "==============================================================================\n",
              "                 coef    std err          t      P>|t|      [0.025      0.975]\n",
              "------------------------------------------------------------------------------\n",
              "Intercept    893.5876   1824.575      0.490      0.628   -2822.951    4610.126\n",
              "Age         1044.1460     42.141     24.777      0.000     958.307    1129.985\n",
              "MBA         1.477e+04   1351.802     10.924      0.000     1.2e+04    1.75e+04\n",
              "==============================================================================\n",
              "Omnibus:                       10.524   Durbin-Watson:                   1.667\n",
              "Prob(Omnibus):                  0.005   Jarque-Bera (JB):               11.598\n",
              "Skew:                           0.859   Prob(JB):                      0.00303\n",
              "Kurtosis:                       5.236   Cond. No.                         162.\n",
              "==============================================================================\n",
              "\n",
              "Notes:\n",
              "[1] Standard Errors assume that the covariance matrix of the errors is correctly specified.\n",
              "\"\"\""
            ],
            "text/html": [
              "<table class=\"simpletable\">\n",
              "<caption>OLS Regression Results</caption>\n",
              "<tr>\n",
              "  <th>Dep. Variable:</th>         <td>Salary</td>      <th>  R-squared:         </th> <td>   0.953</td>\n",
              "</tr>\n",
              "<tr>\n",
              "  <th>Model:</th>                   <td>OLS</td>       <th>  Adj. R-squared:    </th> <td>   0.950</td>\n",
              "</tr>\n",
              "<tr>\n",
              "  <th>Method:</th>             <td>Least Squares</td>  <th>  F-statistic:       </th> <td>   323.0</td>\n",
              "</tr>\n",
              "<tr>\n",
              "  <th>Date:</th>             <td>Tue, 25 Feb 2025</td> <th>  Prob (F-statistic):</th> <td>6.05e-22</td>\n",
              "</tr>\n",
              "<tr>\n",
              "  <th>Time:</th>                 <td>09:09:27</td>     <th>  Log-Likelihood:    </th> <td> -327.63</td>\n",
              "</tr>\n",
              "<tr>\n",
              "  <th>No. Observations:</th>      <td>    35</td>      <th>  AIC:               </th> <td>   661.3</td>\n",
              "</tr>\n",
              "<tr>\n",
              "  <th>Df Residuals:</th>          <td>    32</td>      <th>  BIC:               </th> <td>   665.9</td>\n",
              "</tr>\n",
              "<tr>\n",
              "  <th>Df Model:</th>              <td>     2</td>      <th>                     </th>     <td> </td>   \n",
              "</tr>\n",
              "<tr>\n",
              "  <th>Covariance Type:</th>      <td>nonrobust</td>    <th>                     </th>     <td> </td>   \n",
              "</tr>\n",
              "</table>\n",
              "<table class=\"simpletable\">\n",
              "<tr>\n",
              "      <td></td>         <th>coef</th>     <th>std err</th>      <th>t</th>      <th>P>|t|</th>  <th>[0.025</th>    <th>0.975]</th>  \n",
              "</tr>\n",
              "<tr>\n",
              "  <th>Intercept</th> <td>  893.5876</td> <td> 1824.575</td> <td>    0.490</td> <td> 0.628</td> <td>-2822.951</td> <td> 4610.126</td>\n",
              "</tr>\n",
              "<tr>\n",
              "  <th>Age</th>       <td> 1044.1460</td> <td>   42.141</td> <td>   24.777</td> <td> 0.000</td> <td>  958.307</td> <td> 1129.985</td>\n",
              "</tr>\n",
              "<tr>\n",
              "  <th>MBA</th>       <td> 1.477e+04</td> <td> 1351.802</td> <td>   10.924</td> <td> 0.000</td> <td>  1.2e+04</td> <td> 1.75e+04</td>\n",
              "</tr>\n",
              "</table>\n",
              "<table class=\"simpletable\">\n",
              "<tr>\n",
              "  <th>Omnibus:</th>       <td>10.524</td> <th>  Durbin-Watson:     </th> <td>   1.667</td>\n",
              "</tr>\n",
              "<tr>\n",
              "  <th>Prob(Omnibus):</th> <td> 0.005</td> <th>  Jarque-Bera (JB):  </th> <td>  11.598</td>\n",
              "</tr>\n",
              "<tr>\n",
              "  <th>Skew:</th>          <td> 0.859</td> <th>  Prob(JB):          </th> <td> 0.00303</td>\n",
              "</tr>\n",
              "<tr>\n",
              "  <th>Kurtosis:</th>      <td> 5.236</td> <th>  Cond. No.          </th> <td>    162.</td>\n",
              "</tr>\n",
              "</table><br/><br/>Notes:<br/>[1] Standard Errors assume that the covariance matrix of the errors is correctly specified."
            ],
            "text/latex": "\\begin{center}\n\\begin{tabular}{lclc}\n\\toprule\n\\textbf{Dep. Variable:}    &      Salary      & \\textbf{  R-squared:         } &     0.953   \\\\\n\\textbf{Model:}            &       OLS        & \\textbf{  Adj. R-squared:    } &     0.950   \\\\\n\\textbf{Method:}           &  Least Squares   & \\textbf{  F-statistic:       } &     323.0   \\\\\n\\textbf{Date:}             & Tue, 25 Feb 2025 & \\textbf{  Prob (F-statistic):} &  6.05e-22   \\\\\n\\textbf{Time:}             &     09:09:27     & \\textbf{  Log-Likelihood:    } &   -327.63   \\\\\n\\textbf{No. Observations:} &          35      & \\textbf{  AIC:               } &     661.3   \\\\\n\\textbf{Df Residuals:}     &          32      & \\textbf{  BIC:               } &     665.9   \\\\\n\\textbf{Df Model:}         &           2      & \\textbf{                     } &             \\\\\n\\textbf{Covariance Type:}  &    nonrobust     & \\textbf{                     } &             \\\\\n\\bottomrule\n\\end{tabular}\n\\begin{tabular}{lcccccc}\n                   & \\textbf{coef} & \\textbf{std err} & \\textbf{t} & \\textbf{P$> |$t$|$} & \\textbf{[0.025} & \\textbf{0.975]}  \\\\\n\\midrule\n\\textbf{Intercept} &     893.5876  &     1824.575     &     0.490  &         0.628        &    -2822.951    &     4610.126     \\\\\n\\textbf{Age}       &    1044.1460  &       42.141     &    24.777  &         0.000        &      958.307    &     1129.985     \\\\\n\\textbf{MBA}       &    1.477e+04  &     1351.802     &    10.924  &         0.000        &      1.2e+04    &     1.75e+04     \\\\\n\\bottomrule\n\\end{tabular}\n\\begin{tabular}{lclc}\n\\textbf{Omnibus:}       & 10.524 & \\textbf{  Durbin-Watson:     } &    1.667  \\\\\n\\textbf{Prob(Omnibus):} &  0.005 & \\textbf{  Jarque-Bera (JB):  } &   11.598  \\\\\n\\textbf{Skew:}          &  0.859 & \\textbf{  Prob(JB):          } &  0.00303  \\\\\n\\textbf{Kurtosis:}      &  5.236 & \\textbf{  Cond. No.          } &     162.  \\\\\n\\bottomrule\n\\end{tabular}\n%\\caption{OLS Regression Results}\n\\end{center}\n\nNotes: \\newline\n [1] Standard Errors assume that the covariance matrix of the errors is correctly specified."
          },
          "metadata": {},
          "execution_count": 130
        }
      ]
    },
    {
      "cell_type": "code",
      "source": [
        ">>> df= pd.read_excel('/content/drive/My Drive/Colab Notebooks/dataset/Surface Finish.xlsx', sheet_name='Data', skiprows=2)\n",
        ">>> df.columns\n"
      ],
      "metadata": {
        "id": "uQVvkn4OWl26",
        "outputId": "9e5a8efb-7093-4523-e3c5-fe65d89fbe55",
        "colab": {
          "base_uri": "https://localhost:8080/"
        }
      },
      "execution_count": null,
      "outputs": [
        {
          "output_type": "stream",
          "name": "stderr",
          "text": [
            "/usr/local/lib/python3.11/dist-packages/openpyxl/worksheet/_reader.py:329: UserWarning: Unknown extension is not supported and will be removed\n",
            "  warn(msg)\n"
          ]
        },
        {
          "output_type": "execute_result",
          "data": {
            "text/plain": [
              "Index(['Part', 'Surface Finish', 'RPM', 'Cutting Tool'], dtype='object')"
            ]
          },
          "metadata": {},
          "execution_count": 131
        }
      ]
    },
    {
      "cell_type": "code",
      "source": [
        ">>> df.dtypes\n"
      ],
      "metadata": {
        "id": "okdxvpy-XUCj",
        "outputId": "f77bc3d2-6aa6-4fb1-950f-1c3cee0da1d3",
        "colab": {
          "base_uri": "https://localhost:8080/",
          "height": 210
        }
      },
      "execution_count": null,
      "outputs": [
        {
          "output_type": "execute_result",
          "data": {
            "text/plain": [
              "Part                int64\n",
              "Surface Finish    float64\n",
              "RPM                 int64\n",
              "Cutting Tool       object\n",
              "dtype: object"
            ],
            "text/html": [
              "<div>\n",
              "<style scoped>\n",
              "    .dataframe tbody tr th:only-of-type {\n",
              "        vertical-align: middle;\n",
              "    }\n",
              "\n",
              "    .dataframe tbody tr th {\n",
              "        vertical-align: top;\n",
              "    }\n",
              "\n",
              "    .dataframe thead th {\n",
              "        text-align: right;\n",
              "    }\n",
              "</style>\n",
              "<table border=\"1\" class=\"dataframe\">\n",
              "  <thead>\n",
              "    <tr style=\"text-align: right;\">\n",
              "      <th></th>\n",
              "      <th>0</th>\n",
              "    </tr>\n",
              "  </thead>\n",
              "  <tbody>\n",
              "    <tr>\n",
              "      <th>Part</th>\n",
              "      <td>int64</td>\n",
              "    </tr>\n",
              "    <tr>\n",
              "      <th>Surface Finish</th>\n",
              "      <td>float64</td>\n",
              "    </tr>\n",
              "    <tr>\n",
              "      <th>RPM</th>\n",
              "      <td>int64</td>\n",
              "    </tr>\n",
              "    <tr>\n",
              "      <th>Cutting Tool</th>\n",
              "      <td>object</td>\n",
              "    </tr>\n",
              "  </tbody>\n",
              "</table>\n",
              "</div><br><label><b>dtype:</b> object</label>"
            ]
          },
          "metadata": {},
          "execution_count": 132
        }
      ]
    },
    {
      "cell_type": "code",
      "source": [
        "df['Cutting Tool'].value_counts()"
      ],
      "metadata": {
        "id": "iqveWSCTXp0c",
        "outputId": "76eea88c-37d9-45a6-816b-64f69b2a34cc",
        "colab": {
          "base_uri": "https://localhost:8080/",
          "height": 241
        }
      },
      "execution_count": null,
      "outputs": [
        {
          "output_type": "execute_result",
          "data": {
            "text/plain": [
              "Cutting Tool\n",
              "A    10\n",
              "B    10\n",
              "C    10\n",
              "D     5\n",
              "Name: count, dtype: int64"
            ],
            "text/html": [
              "<div>\n",
              "<style scoped>\n",
              "    .dataframe tbody tr th:only-of-type {\n",
              "        vertical-align: middle;\n",
              "    }\n",
              "\n",
              "    .dataframe tbody tr th {\n",
              "        vertical-align: top;\n",
              "    }\n",
              "\n",
              "    .dataframe thead th {\n",
              "        text-align: right;\n",
              "    }\n",
              "</style>\n",
              "<table border=\"1\" class=\"dataframe\">\n",
              "  <thead>\n",
              "    <tr style=\"text-align: right;\">\n",
              "      <th></th>\n",
              "      <th>count</th>\n",
              "    </tr>\n",
              "    <tr>\n",
              "      <th>Cutting Tool</th>\n",
              "      <th></th>\n",
              "    </tr>\n",
              "  </thead>\n",
              "  <tbody>\n",
              "    <tr>\n",
              "      <th>A</th>\n",
              "      <td>10</td>\n",
              "    </tr>\n",
              "    <tr>\n",
              "      <th>B</th>\n",
              "      <td>10</td>\n",
              "    </tr>\n",
              "    <tr>\n",
              "      <th>C</th>\n",
              "      <td>10</td>\n",
              "    </tr>\n",
              "    <tr>\n",
              "      <th>D</th>\n",
              "      <td>5</td>\n",
              "    </tr>\n",
              "  </tbody>\n",
              "</table>\n",
              "</div><br><label><b>dtype:</b> int64</label>"
            ]
          },
          "metadata": {},
          "execution_count": 133
        }
      ]
    },
    {
      "cell_type": "code",
      "source": [
        "\n",
        ">>> df['B'] = np.where(df['Cutting Tool']=='B', 1, 0)\n",
        ">>> df['C'] = np.where(df['Cutting Tool']=='C', 1, 0)\n",
        ">>> df['D'] = np.where(df['Cutting Tool']=='D', 1, 0)\n",
        ">>> df.columns"
      ],
      "metadata": {
        "id": "UBVn-66sXq2U",
        "outputId": "ae3daf06-b27a-4745-9135-24052c6da1bd",
        "colab": {
          "base_uri": "https://localhost:8080/"
        }
      },
      "execution_count": null,
      "outputs": [
        {
          "output_type": "execute_result",
          "data": {
            "text/plain": [
              "Index(['Part', 'Surface Finish', 'RPM', 'Cutting Tool', 'B', 'C', 'D'], dtype='object')"
            ]
          },
          "metadata": {},
          "execution_count": 135
        }
      ]
    },
    {
      "cell_type": "code",
      "source": [
        "df.head()"
      ],
      "metadata": {
        "id": "kvORjvlAYWBV",
        "outputId": "eaa9b90e-7e9f-4115-8172-4832c3e21062",
        "colab": {
          "base_uri": "https://localhost:8080/",
          "height": 206
        }
      },
      "execution_count": null,
      "outputs": [
        {
          "output_type": "execute_result",
          "data": {
            "text/plain": [
              "   Part  Surface Finish  RPM Cutting Tool  B  C  D\n",
              "0     1           45.44  225            A  0  0  0\n",
              "1     2           42.03  200            A  0  0  0\n",
              "2     3           50.10  250            A  0  0  0\n",
              "3     4           48.75  245            A  0  0  0\n",
              "4     5           47.92  235            A  0  0  0"
            ],
            "text/html": [
              "\n",
              "  <div id=\"df-8a3a50d7-89f5-4468-899c-0c590e247caf\" class=\"colab-df-container\">\n",
              "    <div>\n",
              "<style scoped>\n",
              "    .dataframe tbody tr th:only-of-type {\n",
              "        vertical-align: middle;\n",
              "    }\n",
              "\n",
              "    .dataframe tbody tr th {\n",
              "        vertical-align: top;\n",
              "    }\n",
              "\n",
              "    .dataframe thead th {\n",
              "        text-align: right;\n",
              "    }\n",
              "</style>\n",
              "<table border=\"1\" class=\"dataframe\">\n",
              "  <thead>\n",
              "    <tr style=\"text-align: right;\">\n",
              "      <th></th>\n",
              "      <th>Part</th>\n",
              "      <th>Surface Finish</th>\n",
              "      <th>RPM</th>\n",
              "      <th>Cutting Tool</th>\n",
              "      <th>B</th>\n",
              "      <th>C</th>\n",
              "      <th>D</th>\n",
              "    </tr>\n",
              "  </thead>\n",
              "  <tbody>\n",
              "    <tr>\n",
              "      <th>0</th>\n",
              "      <td>1</td>\n",
              "      <td>45.44</td>\n",
              "      <td>225</td>\n",
              "      <td>A</td>\n",
              "      <td>0</td>\n",
              "      <td>0</td>\n",
              "      <td>0</td>\n",
              "    </tr>\n",
              "    <tr>\n",
              "      <th>1</th>\n",
              "      <td>2</td>\n",
              "      <td>42.03</td>\n",
              "      <td>200</td>\n",
              "      <td>A</td>\n",
              "      <td>0</td>\n",
              "      <td>0</td>\n",
              "      <td>0</td>\n",
              "    </tr>\n",
              "    <tr>\n",
              "      <th>2</th>\n",
              "      <td>3</td>\n",
              "      <td>50.10</td>\n",
              "      <td>250</td>\n",
              "      <td>A</td>\n",
              "      <td>0</td>\n",
              "      <td>0</td>\n",
              "      <td>0</td>\n",
              "    </tr>\n",
              "    <tr>\n",
              "      <th>3</th>\n",
              "      <td>4</td>\n",
              "      <td>48.75</td>\n",
              "      <td>245</td>\n",
              "      <td>A</td>\n",
              "      <td>0</td>\n",
              "      <td>0</td>\n",
              "      <td>0</td>\n",
              "    </tr>\n",
              "    <tr>\n",
              "      <th>4</th>\n",
              "      <td>5</td>\n",
              "      <td>47.92</td>\n",
              "      <td>235</td>\n",
              "      <td>A</td>\n",
              "      <td>0</td>\n",
              "      <td>0</td>\n",
              "      <td>0</td>\n",
              "    </tr>\n",
              "  </tbody>\n",
              "</table>\n",
              "</div>\n",
              "    <div class=\"colab-df-buttons\">\n",
              "\n",
              "  <div class=\"colab-df-container\">\n",
              "    <button class=\"colab-df-convert\" onclick=\"convertToInteractive('df-8a3a50d7-89f5-4468-899c-0c590e247caf')\"\n",
              "            title=\"Convert this dataframe to an interactive table.\"\n",
              "            style=\"display:none;\">\n",
              "\n",
              "  <svg xmlns=\"http://www.w3.org/2000/svg\" height=\"24px\" viewBox=\"0 -960 960 960\">\n",
              "    <path d=\"M120-120v-720h720v720H120Zm60-500h600v-160H180v160Zm220 220h160v-160H400v160Zm0 220h160v-160H400v160ZM180-400h160v-160H180v160Zm440 0h160v-160H620v160ZM180-180h160v-160H180v160Zm440 0h160v-160H620v160Z\"/>\n",
              "  </svg>\n",
              "    </button>\n",
              "\n",
              "  <style>\n",
              "    .colab-df-container {\n",
              "      display:flex;\n",
              "      gap: 12px;\n",
              "    }\n",
              "\n",
              "    .colab-df-convert {\n",
              "      background-color: #E8F0FE;\n",
              "      border: none;\n",
              "      border-radius: 50%;\n",
              "      cursor: pointer;\n",
              "      display: none;\n",
              "      fill: #1967D2;\n",
              "      height: 32px;\n",
              "      padding: 0 0 0 0;\n",
              "      width: 32px;\n",
              "    }\n",
              "\n",
              "    .colab-df-convert:hover {\n",
              "      background-color: #E2EBFA;\n",
              "      box-shadow: 0px 1px 2px rgba(60, 64, 67, 0.3), 0px 1px 3px 1px rgba(60, 64, 67, 0.15);\n",
              "      fill: #174EA6;\n",
              "    }\n",
              "\n",
              "    .colab-df-buttons div {\n",
              "      margin-bottom: 4px;\n",
              "    }\n",
              "\n",
              "    [theme=dark] .colab-df-convert {\n",
              "      background-color: #3B4455;\n",
              "      fill: #D2E3FC;\n",
              "    }\n",
              "\n",
              "    [theme=dark] .colab-df-convert:hover {\n",
              "      background-color: #434B5C;\n",
              "      box-shadow: 0px 1px 3px 1px rgba(0, 0, 0, 0.15);\n",
              "      filter: drop-shadow(0px 1px 2px rgba(0, 0, 0, 0.3));\n",
              "      fill: #FFFFFF;\n",
              "    }\n",
              "  </style>\n",
              "\n",
              "    <script>\n",
              "      const buttonEl =\n",
              "        document.querySelector('#df-8a3a50d7-89f5-4468-899c-0c590e247caf button.colab-df-convert');\n",
              "      buttonEl.style.display =\n",
              "        google.colab.kernel.accessAllowed ? 'block' : 'none';\n",
              "\n",
              "      async function convertToInteractive(key) {\n",
              "        const element = document.querySelector('#df-8a3a50d7-89f5-4468-899c-0c590e247caf');\n",
              "        const dataTable =\n",
              "          await google.colab.kernel.invokeFunction('convertToInteractive',\n",
              "                                                    [key], {});\n",
              "        if (!dataTable) return;\n",
              "\n",
              "        const docLinkHtml = 'Like what you see? Visit the ' +\n",
              "          '<a target=\"_blank\" href=https://colab.research.google.com/notebooks/data_table.ipynb>data table notebook</a>'\n",
              "          + ' to learn more about interactive tables.';\n",
              "        element.innerHTML = '';\n",
              "        dataTable['output_type'] = 'display_data';\n",
              "        await google.colab.output.renderOutput(dataTable, element);\n",
              "        const docLink = document.createElement('div');\n",
              "        docLink.innerHTML = docLinkHtml;\n",
              "        element.appendChild(docLink);\n",
              "      }\n",
              "    </script>\n",
              "  </div>\n",
              "\n",
              "\n",
              "<div id=\"df-8a663683-4b60-4a15-80de-5a37d96625d2\">\n",
              "  <button class=\"colab-df-quickchart\" onclick=\"quickchart('df-8a663683-4b60-4a15-80de-5a37d96625d2')\"\n",
              "            title=\"Suggest charts\"\n",
              "            style=\"display:none;\">\n",
              "\n",
              "<svg xmlns=\"http://www.w3.org/2000/svg\" height=\"24px\"viewBox=\"0 0 24 24\"\n",
              "     width=\"24px\">\n",
              "    <g>\n",
              "        <path d=\"M19 3H5c-1.1 0-2 .9-2 2v14c0 1.1.9 2 2 2h14c1.1 0 2-.9 2-2V5c0-1.1-.9-2-2-2zM9 17H7v-7h2v7zm4 0h-2V7h2v10zm4 0h-2v-4h2v4z\"/>\n",
              "    </g>\n",
              "</svg>\n",
              "  </button>\n",
              "\n",
              "<style>\n",
              "  .colab-df-quickchart {\n",
              "      --bg-color: #E8F0FE;\n",
              "      --fill-color: #1967D2;\n",
              "      --hover-bg-color: #E2EBFA;\n",
              "      --hover-fill-color: #174EA6;\n",
              "      --disabled-fill-color: #AAA;\n",
              "      --disabled-bg-color: #DDD;\n",
              "  }\n",
              "\n",
              "  [theme=dark] .colab-df-quickchart {\n",
              "      --bg-color: #3B4455;\n",
              "      --fill-color: #D2E3FC;\n",
              "      --hover-bg-color: #434B5C;\n",
              "      --hover-fill-color: #FFFFFF;\n",
              "      --disabled-bg-color: #3B4455;\n",
              "      --disabled-fill-color: #666;\n",
              "  }\n",
              "\n",
              "  .colab-df-quickchart {\n",
              "    background-color: var(--bg-color);\n",
              "    border: none;\n",
              "    border-radius: 50%;\n",
              "    cursor: pointer;\n",
              "    display: none;\n",
              "    fill: var(--fill-color);\n",
              "    height: 32px;\n",
              "    padding: 0;\n",
              "    width: 32px;\n",
              "  }\n",
              "\n",
              "  .colab-df-quickchart:hover {\n",
              "    background-color: var(--hover-bg-color);\n",
              "    box-shadow: 0 1px 2px rgba(60, 64, 67, 0.3), 0 1px 3px 1px rgba(60, 64, 67, 0.15);\n",
              "    fill: var(--button-hover-fill-color);\n",
              "  }\n",
              "\n",
              "  .colab-df-quickchart-complete:disabled,\n",
              "  .colab-df-quickchart-complete:disabled:hover {\n",
              "    background-color: var(--disabled-bg-color);\n",
              "    fill: var(--disabled-fill-color);\n",
              "    box-shadow: none;\n",
              "  }\n",
              "\n",
              "  .colab-df-spinner {\n",
              "    border: 2px solid var(--fill-color);\n",
              "    border-color: transparent;\n",
              "    border-bottom-color: var(--fill-color);\n",
              "    animation:\n",
              "      spin 1s steps(1) infinite;\n",
              "  }\n",
              "\n",
              "  @keyframes spin {\n",
              "    0% {\n",
              "      border-color: transparent;\n",
              "      border-bottom-color: var(--fill-color);\n",
              "      border-left-color: var(--fill-color);\n",
              "    }\n",
              "    20% {\n",
              "      border-color: transparent;\n",
              "      border-left-color: var(--fill-color);\n",
              "      border-top-color: var(--fill-color);\n",
              "    }\n",
              "    30% {\n",
              "      border-color: transparent;\n",
              "      border-left-color: var(--fill-color);\n",
              "      border-top-color: var(--fill-color);\n",
              "      border-right-color: var(--fill-color);\n",
              "    }\n",
              "    40% {\n",
              "      border-color: transparent;\n",
              "      border-right-color: var(--fill-color);\n",
              "      border-top-color: var(--fill-color);\n",
              "    }\n",
              "    60% {\n",
              "      border-color: transparent;\n",
              "      border-right-color: var(--fill-color);\n",
              "    }\n",
              "    80% {\n",
              "      border-color: transparent;\n",
              "      border-right-color: var(--fill-color);\n",
              "      border-bottom-color: var(--fill-color);\n",
              "    }\n",
              "    90% {\n",
              "      border-color: transparent;\n",
              "      border-bottom-color: var(--fill-color);\n",
              "    }\n",
              "  }\n",
              "</style>\n",
              "\n",
              "  <script>\n",
              "    async function quickchart(key) {\n",
              "      const quickchartButtonEl =\n",
              "        document.querySelector('#' + key + ' button');\n",
              "      quickchartButtonEl.disabled = true;  // To prevent multiple clicks.\n",
              "      quickchartButtonEl.classList.add('colab-df-spinner');\n",
              "      try {\n",
              "        const charts = await google.colab.kernel.invokeFunction(\n",
              "            'suggestCharts', [key], {});\n",
              "      } catch (error) {\n",
              "        console.error('Error during call to suggestCharts:', error);\n",
              "      }\n",
              "      quickchartButtonEl.classList.remove('colab-df-spinner');\n",
              "      quickchartButtonEl.classList.add('colab-df-quickchart-complete');\n",
              "    }\n",
              "    (() => {\n",
              "      let quickchartButtonEl =\n",
              "        document.querySelector('#df-8a663683-4b60-4a15-80de-5a37d96625d2 button');\n",
              "      quickchartButtonEl.style.display =\n",
              "        google.colab.kernel.accessAllowed ? 'block' : 'none';\n",
              "    })();\n",
              "  </script>\n",
              "</div>\n",
              "\n",
              "    </div>\n",
              "  </div>\n"
            ],
            "application/vnd.google.colaboratory.intrinsic+json": {
              "type": "dataframe",
              "variable_name": "df",
              "summary": "{\n  \"name\": \"df\",\n  \"rows\": 35,\n  \"fields\": [\n    {\n      \"column\": \"Part\",\n      \"properties\": {\n        \"dtype\": \"number\",\n        \"std\": 10,\n        \"min\": 1,\n        \"max\": 35,\n        \"num_unique_values\": 35,\n        \"samples\": [\n          27,\n          14,\n          25\n        ],\n        \"semantic_type\": \"\",\n        \"description\": \"\"\n      }\n    },\n    {\n      \"column\": \"Surface Finish\",\n      \"properties\": {\n        \"dtype\": \"number\",\n        \"std\": 9.721674631824438,\n        \"min\": 20.5,\n        \"max\": 52.26,\n        \"num_unique_values\": 35,\n        \"samples\": [\n          28.3,\n          37.13,\n          27.1\n        ],\n        \"semantic_type\": \"\",\n        \"description\": \"\"\n      }\n    },\n    {\n      \"column\": \"RPM\",\n      \"properties\": {\n        \"dtype\": \"number\",\n        \"std\": 17,\n        \"min\": 200,\n        \"max\": 265,\n        \"num_unique_values\": 19,\n        \"samples\": [\n          225,\n          237,\n          212\n        ],\n        \"semantic_type\": \"\",\n        \"description\": \"\"\n      }\n    },\n    {\n      \"column\": \"Cutting Tool\",\n      \"properties\": {\n        \"dtype\": \"category\",\n        \"num_unique_values\": 4,\n        \"samples\": [\n          \"B\",\n          \"D\",\n          \"A\"\n        ],\n        \"semantic_type\": \"\",\n        \"description\": \"\"\n      }\n    },\n    {\n      \"column\": \"B\",\n      \"properties\": {\n        \"dtype\": \"number\",\n        \"std\": 0,\n        \"min\": 0,\n        \"max\": 1,\n        \"num_unique_values\": 2,\n        \"samples\": [\n          1,\n          0\n        ],\n        \"semantic_type\": \"\",\n        \"description\": \"\"\n      }\n    },\n    {\n      \"column\": \"C\",\n      \"properties\": {\n        \"dtype\": \"number\",\n        \"std\": 0,\n        \"min\": 0,\n        \"max\": 1,\n        \"num_unique_values\": 2,\n        \"samples\": [\n          1,\n          0\n        ],\n        \"semantic_type\": \"\",\n        \"description\": \"\"\n      }\n    },\n    {\n      \"column\": \"D\",\n      \"properties\": {\n        \"dtype\": \"number\",\n        \"std\": 0,\n        \"min\": 0,\n        \"max\": 1,\n        \"num_unique_values\": 2,\n        \"samples\": [\n          1,\n          0\n        ],\n        \"semantic_type\": \"\",\n        \"description\": \"\"\n      }\n    }\n  ]\n}"
            }
          },
          "metadata": {},
          "execution_count": 140
        }
      ]
    },
    {
      "cell_type": "code",
      "source": [
        "df.column = ['Part', 'SurfaceFinish','RPM','CuttingTool', 'B', 'C', 'D']\n",
        "df.columns"
      ],
      "metadata": {
        "id": "45U4o85gXxvN",
        "outputId": "8f27dc1c-21c0-4c8e-8ef3-65d069699945",
        "colab": {
          "base_uri": "https://localhost:8080/"
        }
      },
      "execution_count": null,
      "outputs": [
        {
          "output_type": "execute_result",
          "data": {
            "text/plain": [
              "Index(['Part', 'Surface Finish', 'RPM', 'Cutting Tool', 'B', 'C', 'D'], dtype='object')"
            ]
          },
          "metadata": {},
          "execution_count": 138
        }
      ]
    },
    {
      "source": [
        ">>> df= pd.read_excel('/content/drive/My Drive/Colab Notebooks/dataset/Surface Finish.xlsx', sheet_name='Data', skiprows=2)\n",
        ">>> print(df.columns) #check columns\n",
        ">>> df.dtypes\n",
        "\n",
        "df['Cutting Tool'].value_counts()\n",
        "\n",
        "\n",
        ">>> df['B'] = np.where(df['Cutting Tool']=='B', 1, 0)\n",
        ">>> df['C'] = np.where(df['Cutting Tool']=='C', 1, 0)\n",
        ">>> df['D'] = np.where(df['Cutting Tool']=='D', 1, 0)\n",
        ">>> print(df.columns) # check columns after dummy variable creation\n",
        "df.head()\n",
        "df.columns = ['Part', 'SurfaceFinish','RPM','CuttingTool', 'B', 'C', 'D'] # corrected line\n",
        ">>> print(df.columns) # check columns after reassignment of names\n",
        "model = smf.ols(formula='SurfaceFinish~RPM+B+C+D', data=df).fit()\n",
        "model.params"
      ],
      "cell_type": "code",
      "metadata": {
        "id": "oeNFBsalZU3P",
        "outputId": "61fb9924-5972-46f7-f212-978b9acf6052",
        "colab": {
          "base_uri": "https://localhost:8080/",
          "height": 350
        }
      },
      "execution_count": null,
      "outputs": [
        {
          "output_type": "stream",
          "name": "stdout",
          "text": [
            "Index(['Part', 'Surface Finish', 'RPM', 'Cutting Tool'], dtype='object')\n",
            "Index(['Part', 'Surface Finish', 'RPM', 'Cutting Tool', 'B', 'C', 'D'], dtype='object')\n",
            "Index(['Part', 'SurfaceFinish', 'RPM', 'CuttingTool', 'B', 'C', 'D'], dtype='object')\n"
          ]
        },
        {
          "output_type": "stream",
          "name": "stderr",
          "text": [
            "/usr/local/lib/python3.11/dist-packages/openpyxl/worksheet/_reader.py:329: UserWarning: Unknown extension is not supported and will be removed\n",
            "  warn(msg)\n"
          ]
        },
        {
          "output_type": "execute_result",
          "data": {
            "text/plain": [
              "Intercept    24.494372\n",
              "RPM           0.097761\n",
              "B           -13.310568\n",
              "C           -20.487000\n",
              "D           -26.036745\n",
              "dtype: float64"
            ],
            "text/html": [
              "<div>\n",
              "<style scoped>\n",
              "    .dataframe tbody tr th:only-of-type {\n",
              "        vertical-align: middle;\n",
              "    }\n",
              "\n",
              "    .dataframe tbody tr th {\n",
              "        vertical-align: top;\n",
              "    }\n",
              "\n",
              "    .dataframe thead th {\n",
              "        text-align: right;\n",
              "    }\n",
              "</style>\n",
              "<table border=\"1\" class=\"dataframe\">\n",
              "  <thead>\n",
              "    <tr style=\"text-align: right;\">\n",
              "      <th></th>\n",
              "      <th>0</th>\n",
              "    </tr>\n",
              "  </thead>\n",
              "  <tbody>\n",
              "    <tr>\n",
              "      <th>Intercept</th>\n",
              "      <td>24.494372</td>\n",
              "    </tr>\n",
              "    <tr>\n",
              "      <th>RPM</th>\n",
              "      <td>0.097761</td>\n",
              "    </tr>\n",
              "    <tr>\n",
              "      <th>B</th>\n",
              "      <td>-13.310568</td>\n",
              "    </tr>\n",
              "    <tr>\n",
              "      <th>C</th>\n",
              "      <td>-20.487000</td>\n",
              "    </tr>\n",
              "    <tr>\n",
              "      <th>D</th>\n",
              "      <td>-26.036745</td>\n",
              "    </tr>\n",
              "  </tbody>\n",
              "</table>\n",
              "</div><br><label><b>dtype:</b> float64</label>"
            ]
          },
          "metadata": {},
          "execution_count": 145
        }
      ]
    }
  ]
}